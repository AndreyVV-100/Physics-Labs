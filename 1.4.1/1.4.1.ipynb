{
 "cells": [
  {
   "cell_type": "markdown",
   "metadata": {},
   "source": [
    "    Библиотечки:"
   ]
  },
  {
   "cell_type": "code",
   "execution_count": 21,
   "metadata": {},
   "outputs": [],
   "source": [
    "import matplotlib.pyplot as plt\n",
    "import math"
   ]
  },
  {
   "cell_type": "markdown",
   "metadata": {},
   "source": [
    "    Считывание данных:"
   ]
  },
  {
   "cell_type": "code",
   "execution_count": 2,
   "metadata": {},
   "outputs": [
    {
     "name": "stdout",
     "output_type": "stream",
     "text": [
      "31.2\t30.93\t30.71\t30.6\t30.5\t30.69\t30.68\t31.09\t31.4\t31.96\t32.75\t33.84\n",
      "37\t35\t33\t31\t29\t27\t25\t23\t21\t19\t17\t15\n"
     ]
    }
   ],
   "source": [
    "t = list (map (float, input().split()))\n",
    "a = list (map (int, input().split()))"
   ]
  },
  {
   "cell_type": "markdown",
   "metadata": {},
   "source": [
    "    Проверка ввода:"
   ]
  },
  {
   "cell_type": "code",
   "execution_count": 3,
   "metadata": {
    "scrolled": true
   },
   "outputs": [
    {
     "name": "stdout",
     "output_type": "stream",
     "text": [
      "31.2\t30.93\t30.71\t30.6\t30.5\t30.69\t30.68\t31.09\t31.4\t31.96\t32.75\t33.84\n",
      "37\t35\t33\t31\t29\t27\t25\t23\t21\t19\t17\t15\n"
     ]
    }
   ],
   "source": [
    "print(*t, sep = '\\t')\n",
    "print(*a, sep = '\\t')"
   ]
  },
  {
   "cell_type": "markdown",
   "metadata": {},
   "source": [
    "    Найдём период колебаний:"
   ]
  },
  {
   "cell_type": "code",
   "execution_count": 4,
   "metadata": {},
   "outputs": [
    {
     "name": "stdout",
     "output_type": "stream",
     "text": [
      "1.56\t1.55\t1.54\t1.53\t1.52\t1.53\t1.53\t1.55\t1.57\t1.6\t1.64\t1.69\n"
     ]
    }
   ],
   "source": [
    "N = 20\n",
    "T = list (map (lambda x: round (x * 100 / N) / 100, t))\n",
    "print(*T, sep = '\\t')"
   ]
  },
  {
   "cell_type": "markdown",
   "metadata": {},
   "source": [
    "    Строим график!"
   ]
  },
  {
   "cell_type": "code",
   "execution_count": 11,
   "metadata": {},
   "outputs": [
    {
     "data": {
      "image/png": "[encoded data removed]",
      "text/plain": [
       "<Figure size 432x288 with 1 Axes>"
      ]
     },
     "metadata": {
      "needs_background": "light"
     },
     "output_type": "display_data"
    }
   ],
   "source": [
    "a = [a[i] / 100 for i in range (len (a))]\n",
    "\n",
    "y = [T[i]**2 * a[i] for i in range (len (a))]\n",
    "x = [a[i]**2 for i in range (len (a))]\n",
    "\n",
    "fig = plt.figure()\n",
    "ax = fig.add_subplot (111)\n",
    "\n",
    "ax.plot (x[::len (x)-1], y[::len (y)-1]);\n",
    "ax.scatter (x, y, color = \"red\");"
   ]
  },
  {
   "cell_type": "code",
   "execution_count": 24,
   "metadata": {},
   "outputs": [
    {
     "name": "stdout",
     "output_type": "stream",
     "text": [
      "9.5681532104532\n"
     ]
    }
   ],
   "source": [
    "print (4 * math.pi**2 / ((y[-1] - y[0]) / (x[-1] - x[0])))"
   ]
  }
 ],
 "metadata": {
  "kernelspec": {
   "display_name": "Python 3",
   "language": "python",
   "name": "python3"
  },
  "language_info": {
   "codemirror_mode": {
    "name": "ipython",
    "version": 3
   },
   "file_extension": ".py",
   "mimetype": "text/x-python",
   "name": "python",
   "nbconvert_exporter": "python",
   "pygments_lexer": "ipython3",
   "version": "3.8.2"
  }
 },
 "nbformat": 4,
 "nbformat_minor": 4
}
