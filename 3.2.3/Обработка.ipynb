{
 "cells": [
  {
   "cell_type": "markdown",
   "source": [
    "    LaTeX генератор таблиц (наконец-то полноценный, ориентация вертикальная):"
   ],
   "metadata": {}
  },
  {
   "cell_type": "code",
   "execution_count": 9,
   "source": [
    "print (\"Введите данные:\")\n",
    "no_parse_data = input().split(' ')\n",
    "data = [i_stolb.split() for i_stolb in no_parse_data]\n",
    "# print (data)\n",
    "\n",
    "output = \"\\hline\\n\"\n",
    "for i_str in range (len (data[0])):\n",
    "    for i_stolb in range (len (data)):\n",
    "        output += data[i_stolb][i_str] + \" & \"\n",
    "    output = output[0:-2] + \"\\\\\\\\ \\hline\\n\"\n",
    "\n",
    "print (output)"
   ],
   "outputs": [
    {
     "output_type": "stream",
     "name": "stdout",
     "text": [
      "Введите данные:\n",
      "\\hline\n",
      "3 & 3.5 & 4 & 4.5 & 5 & 5.5 & 6 & 6.5 & 7 & 7.5 & 8 & 8.5 & 9 & 9.5 & 10 & 10.5 & 11 & 11.5 \\\\ \\hline\n",
      "32 & 28 & 25 & 21 & 11 & 8 & 4 & 3 & 4 & 10 & 20 & 27 & 35 & 45 & 56 & 67 & 80 & 96 \\\\ \\hline\n",
      "15 & 20 & 21 & 23 & 25 & 27 & 30 & 33 & 36 & 39 & 43 & 47 & 51 & 56 & 61 & 67 & 74 & 81 \\\\ \\hline\n",
      "33 & 34 & 34 & 34 & 34 & 34 & 34 & 34 & 34 & 34 & 34 & 35 & 34 & 35 & 35 & 34 & 35 & 35 \\\\ \\hline\n",
      "\n"
     ]
    }
   ],
   "metadata": {
    "scrolled": false
   }
  },
  {
   "cell_type": "markdown",
   "source": [
    "    А вот горизонтальная:"
   ],
   "metadata": {}
  },
  {
   "cell_type": "code",
   "execution_count": 10,
   "source": [
    "print (\"Введите данные:\")\n",
    "data = input()\n",
    "data = data.replace (' ',  \"\\\\\\\\ \\hline\\n\")\n",
    "data = data.replace ('\\t', \" & \")\n",
    "print (\"\\hline\", data, sep = '\\n')"
   ],
   "outputs": [
    {
     "output_type": "stream",
     "name": "stdout",
     "text": [
      "Введите данные:\n",
      "\\hline\n",
      "3 & 32 & 15 & 33\\\\ \\hline\n",
      "3.5 & 28 & 20 & 34\\\\ \\hline\n",
      "4 & 25 & 21 & 34\\\\ \\hline\n",
      "4.5 & 21 & 23 & 34\\\\ \\hline\n",
      "5 & 11 & 25 & 34\\\\ \\hline\n",
      "5.5 & 8 & 27 & 34\\\\ \\hline\n",
      "6 & 4 & 30 & 34\\\\ \\hline\n",
      "6.5 & 3 & 33 & 34\\\\ \\hline\n",
      "7 & 4 & 36 & 34\\\\ \\hline\n",
      "7.5 & 10 & 39 & 34\\\\ \\hline\n",
      "8 & 20 & 43 & 34\\\\ \\hline\n",
      "8.5 & 27 & 47 & 35\\\\ \\hline\n",
      "9 & 35 & 51 & 34\\\\ \\hline\n",
      "9.5 & 45 & 56 & 35\\\\ \\hline\n",
      "10 & 56 & 61 & 35\\\\ \\hline\n",
      "10.5 & 67 & 67 & 34\\\\ \\hline\n",
      "11 & 80 & 74 & 35\\\\ \\hline\n",
      "11.5 & 96 & 81 & 35\n"
     ]
    }
   ],
   "metadata": {}
  },
  {
   "cell_type": "markdown",
   "source": [
    "    Теперь основная часть:"
   ],
   "metadata": {}
  },
  {
   "cell_type": "code",
   "execution_count": 1,
   "source": [
    "import matplotlib.pyplot as plt\n",
    "import numpy as np\n",
    "import pandas as pd\n",
    "from math import sqrt"
   ],
   "outputs": [],
   "metadata": {}
  },
  {
   "cell_type": "code",
   "execution_count": 2,
   "source": [
    "L = list (map (float, input().split()))\n",
    "for i in range (len (L)):\n",
    "    L[i] *= 10\n",
    "\n",
    "I = list (map (float, input().split()))\n",
    "for i in range (len (I)):\n",
    "    I[i] *= 0.5 / 100\n",
    "\n",
    "I_L = list (map (float, input().split()))\n",
    "for i in range (len (I_L)):\n",
    "    I_L[i] *= 1 / 100\n",
    "\n",
    "I_C = list (map (float, input().split()))\n",
    "for i in range (len (I_C)):\n",
    "    I_C[i] *= 1 / 100"
   ],
   "outputs": [],
   "metadata": {}
  },
  {
   "cell_type": "code",
   "execution_count": 5,
   "source": [
    "plt.rc('font', size = 13) \n",
    "\n",
    "fig = plt.figure(figsize = (10, 10))\n",
    "ax  = fig.add_subplot(1,1,1)\n",
    "\n",
    "ax.scatter (L, I,   marker = 'x', label = \"I\", s = 100);\n",
    "ax.scatter (L, I_L, marker = 'x', label = \"I_L\", s = 100);\n",
    "ax.scatter (L, I_C, marker = 'x', label = \"I_C\", s = 100);\n",
    "\n",
    "\"\"\" ax.plot    ([const_start, const_end], [k1 * const_start + b1, k1 * const_end + b1], color = \"red\", label = \"Эксперимент 1\");\n",
    "ax.scatter (data1.t[0:51], data1.lnP[0:51],     color = \"red\", marker = 'x');\n",
    "\n",
    "ax.plot    ([const_start, const_end], [k2 * const_start + b2, k2 * const_end + b2], color = \"blue\", label = \"Эксперимент 2\");\n",
    "ax.scatter (data2.t[0:51], data2.lnP[0:51],     color = \"blue\", marker = 'x');\n",
    " \"\"\"\n",
    "\n",
    "ax.set_xlabel('$L$, мм', fontsize = 20)\n",
    "ax.set_ylabel('$I$, мА', fontsize = 20)\n",
    "\n",
    "plt.legend(fontsize = 20)\n",
    "ax.grid(True)\n",
    "\n",
    "plt.savefig (\"Picturies/graph.pdf\")"
   ],
   "outputs": [
    {
     "output_type": "display_data",
     "data": {
      "image/png": "[encoded data removed]",
      "text/plain": [
       "<Figure size 720x720 with 1 Axes>"
      ]
     },
     "metadata": {
      "needs_background": "light"
     }
    }
   ],
   "metadata": {}
  }
 ],
 "metadata": {
  "kernelspec": {
   "name": "python3",
   "display_name": "Python 3.8.10 64-bit"
  },
  "language_info": {
   "codemirror_mode": {
    "name": "ipython",
    "version": 3
   },
   "file_extension": ".py",
   "mimetype": "text/x-python",
   "name": "python",
   "nbconvert_exporter": "python",
   "pygments_lexer": "ipython3",
   "version": "3.8.10"
  },
  "metadata": {
   "interpreter": {
    "hash": "916dbcbb3f70747c44a77c7bcd40155683ae19c65e1c03b4aa3499c5328201f1"
   }
  },
  "interpreter": {
   "hash": "916dbcbb3f70747c44a77c7bcd40155683ae19c65e1c03b4aa3499c5328201f1"
  }
 },
 "nbformat": 4,
 "nbformat_minor": 4
}