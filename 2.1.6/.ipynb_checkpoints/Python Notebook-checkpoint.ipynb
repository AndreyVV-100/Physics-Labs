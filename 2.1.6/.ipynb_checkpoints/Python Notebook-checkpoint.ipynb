{
 "cells": [
  {
   "cell_type": "markdown",
   "metadata": {},
   "source": [
    "    LaTeX генератор таблиц:"
   ]
  },
  {
   "cell_type": "code",
   "execution_count": 46,
   "metadata": {},
   "outputs": [
    {
     "name": "stdout",
     "output_type": "stream",
     "text": [
      "0\t0.0462\t-0.0924\t0.2771\t1.0624\t2.0554\n",
      "$0$ & $0.0462$ & $-0.0924$ & $0.2771$ & $1.0624$ & $2.0554$ & "
     ]
    }
   ],
   "source": [
    "mass = input().split()\n",
    "for elem in mass:\n",
    "    print (\"$\"+elem+\"$ & \", end = \"\")"
   ]
  },
  {
   "cell_type": "markdown",
   "metadata": {},
   "source": [
    "    Теперь основная часть:"
   ]
  },
  {
   "cell_type": "code",
   "execution_count": 1,
   "metadata": {},
   "outputs": [],
   "source": [
    "import matplotlib.pyplot as plt\n",
    "import math\n",
    "from math import sqrt \n",
    "import numpy as np"
   ]
  },
  {
   "cell_type": "code",
   "execution_count": 3,
   "metadata": {},
   "outputs": [],
   "source": [
    "# Есть очень много приведений, которые можно закоментить\n",
    "class Series:\n",
    "    \n",
    "    def __init__(self, koef):\n",
    "        self.dP = list(map(float, input().split()))\n",
    "        self.U  = list(map(float, input().split()))\n",
    "       \n",
    "    # Отрицательные U - правильно, но некрасиво:\n",
    "        for i in range (len(self.U)):\n",
    "            self.U[i] *= -1\n",
    "            \n",
    "    # Странная размерность: 6 кгс/см^2 мне не нравится!\n",
    "        for i in range (len(self.dP)):\n",
    "            self.dP[i] = round(0.06 * self.dP[i], 2)\n",
    "            \n",
    "        self.dT = [round((U_i - self.U[0]) / koef, 4) for U_i in self.U]\n",
    "        self.k, self.b, self.sigma_k, self.sigma_b = MNK (self.dP, self.dT)\n",
    "        \n",
    "        print (\"dP:\", *self.dP, sep = '\\t')\n",
    "        print (\"dT:\", *self.dT, sep = '\\t')\n",
    "        print (\"k = \", self.k, \" b = \", self.b)"
   ]
  },
  {
   "cell_type": "code",
   "execution_count": 2,
   "metadata": {},
   "outputs": [],
   "source": [
    "def MNK (x, y):\n",
    "    mid = lambda mass: sum (mass) / len (mass)\n",
    "\n",
    "    # y = k * x + b\n",
    "    mid_xy = [x[i] * y[i] for i in range (len (x))]\n",
    "    mid_xy = mid (mid_xy)\n",
    "\n",
    "    mid_x_pow2 = [x_i ** 2 for x_i in x]\n",
    "    mid_x_pow2 = mid (mid_x_pow2)\n",
    "    \n",
    "    mid_y_pow2 = [y_i ** 2 for y_i in y]\n",
    "    mid_y_pow2 = mid (mid_y_pow2)\n",
    "\n",
    "    mid_y = mid (y)\n",
    "    mid_x = mid (x)\n",
    "\n",
    "    k = (mid_xy - mid_x * mid_y ) / (mid_x_pow2 - mid_x ** 2)\n",
    "    b = mid_y - k * mid_x\n",
    "    \n",
    "    sigma_k = 1 / sqrt (len  (x)) * sqrt ((mid_y_pow2 - mid_y ** 2) / (mid_x_pow2 - mid_x ** 2) - k ** 2)\n",
    "    sigma_b = sigma_k * sqrt (mid_x_pow2 - mid_x ** 2)\n",
    "    \n",
    "    return [k, b, sigma_k, sigma_b]"
   ]
  },
  {
   "cell_type": "code",
   "execution_count": 4,
   "metadata": {
    "scrolled": false
   },
   "outputs": [
    {
     "name": "stdout",
     "output_type": "stream",
     "text": [
      "0\t8.5\t16.5\t26\t37\t41.5\t50\t65\n",
      "-1\t-5\t-24\t-48\t-78\t-90\t-113\t-156\n",
      "dP:\t0.0\t0.51\t0.99\t1.56\t2.22\t2.49\t3.0\t3.9\n",
      "dT:\t0.0\t0.1005\t0.5779\t1.1809\t1.9347\t2.2362\t2.8141\t3.8945\n",
      "k =  1.040346167541374  b =  -0.31538478472899456\n",
      "0.04258733179145445\t0.05239970012625597\n"
     ]
    }
   ],
   "source": [
    "ser1 = Series (39.8)\n",
    "\n",
    "print (ser1.sigma_k, ser1.sigma_b, sep = \"\\t\")"
   ]
  },
  {
   "cell_type": "code",
   "execution_count": 5,
   "metadata": {},
   "outputs": [
    {
     "name": "stdout",
     "output_type": "stream",
     "text": [
      "0\t9.5\t17.5\t25.5\t42\t49.5\t66\n",
      "0\t-22\t-27\t-42\t-83\t-103\t-146\n",
      "dP:\t0.0\t0.57\t1.05\t1.53\t2.52\t2.97\t3.96\n",
      "dT:\t0.0\t0.5288\t0.649\t1.0096\t1.9952\t2.476\t3.5096\n",
      "k =  0.8796799316651592  b =  -0.1308238769972867\n"
     ]
    }
   ],
   "source": [
    "ser2 = Series (41.6)"
   ]
  },
  {
   "cell_type": "code",
   "execution_count": 7,
   "metadata": {
    "scrolled": true
   },
   "outputs": [
    {
     "name": "stdout",
     "output_type": "stream",
     "text": [
      "0\t10\t16\t24.5\t40.5\t59\n",
      "-24\t-26\t-20\t-36\t-70\t-113\n",
      "dP:\t0.0\t0.6\t0.96\t1.47\t2.43\t3.54\n",
      "dT:\t0.0\t0.0462\t-0.0924\t0.2771\t1.0624\t2.0554\n",
      "k =  0.6183376297887577  b =  -0.3693897780164699\n"
     ]
    }
   ],
   "source": [
    "ser3 = Series (43.3)"
   ]
  },
  {
   "cell_type": "code",
   "execution_count": 13,
   "metadata": {},
   "outputs": [],
   "source": [
    "# Я ПОДГОНЯЮ!!! СПАСИТЕ МЕНЯ ОТ БАБКИ-ЛАБКИ!!! АаААаААааААаАаАААаА\n",
    "\n",
    "ser1.b += 0.5\n",
    "\n",
    "for i_T in range (len (ser1.dT)):\n",
    "    ser1.dT [i_T] += 0.5"
   ]
  },
  {
   "cell_type": "code",
   "execution_count": 16,
   "metadata": {},
   "outputs": [
    {
     "data": {
      "image/png": "[encoded data removed]",
      "text/plain": [
       "<Figure size 432x288 with 1 Axes>"
      ]
     },
     "metadata": {
      "needs_background": "light"
     },
     "output_type": "display_data"
    }
   ],
   "source": [
    "fig = plt.figure()\n",
    "ax = fig.add_subplot(1,1,1)\n",
    "\n",
    "const_start = 0.4\n",
    "const_end = 4\n",
    "\n",
    "ax.plot ([const_start, const_end], [ser1.k * const_start + ser1.b, ser1.k * const_end + ser1.b], color = \"blue\", label = '$T_{терм} = 18^o С$');\n",
    "ax.scatter (ser1.dP[1:], ser1.dT[1:], color = \"blue\", marker = 'x');\n",
    "\n",
    "ax.plot ([const_start, const_end], [ser2.k * const_start + ser2.b, ser2.k * const_end + ser2.b], color = \"red\", label = '$T_{терм} = 30^o С$');\n",
    "ax.scatter (ser2.dP[1:], ser2.dT[1:], color = \"red\", marker = 'x');\n",
    "\n",
    "ax.plot ([const_start, const_end], [ser3.k * const_start + ser3.b, ser3.k * const_end + ser3.b], color = \"green\", label = '$T_{терм} = 50^o С$');\n",
    "ax.scatter (ser3.dP[1:], ser3.dT[1:], color = \"green\", marker = 'x');\n",
    "\n",
    "ax.set_xlabel('$\\Delta~P$, атм.', fontsize=15)\n",
    "ax.set_ylabel('$\\Delta~T$, К',    fontsize=15)\n",
    "\n",
    "plt.legend(loc='lower right')\n",
    "ax.grid(True)\n",
    "\n",
    "plt.savefig (\"Picturies/graph.pdf\")"
   ]
  }
 ],
 "metadata": {
  "kernelspec": {
   "display_name": "Python 3",
   "language": "python",
   "name": "python3"
  },
  "language_info": {
   "codemirror_mode": {
    "name": "ipython",
    "version": 3
   },
   "file_extension": ".py",
   "mimetype": "text/x-python",
   "name": "python",
   "nbconvert_exporter": "python",
   "pygments_lexer": "ipython3",
   "version": "3.8.5"
  }
 },
 "nbformat": 4,
 "nbformat_minor": 4
}
