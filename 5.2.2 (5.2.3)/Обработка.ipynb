{
 "cells": [
  {
   "cell_type": "markdown",
   "metadata": {},
   "source": [
    "    LaTeX генератор таблиц (наконец-то полноценный, ориентация вертикальная):"
   ]
  },
  {
   "cell_type": "code",
   "execution_count": 16,
   "metadata": {
    "scrolled": false
   },
   "outputs": [
    {
     "name": "stdout",
     "output_type": "stream",
     "text": [
      "Введите данные:\n",
      "\\hline\n",
      "10 & 6334 & 2686 \\\\ \\hline\n",
      "11 & 6305 & 2674 \\\\ \\hline\n",
      "12 & 6267 & 2660 \\\\ \\hline\n",
      "13 & 6217 & 2640 \\\\ \\hline\n",
      "14 & 6164 & 2618 \\\\ \\hline\n",
      "15 & 6143 & 2608 \\\\ \\hline\n",
      "16 & 6096 & 2590 \\\\ \\hline\n",
      "17 & 6074 & 2578 \\\\ \\hline\n",
      "\n"
     ]
    }
   ],
   "source": [
    "print (\"Введите данные:\")\n",
    "no_parse_data = input().split(' ')\n",
    "data = [i_stolb.split() for i_stolb in no_parse_data]\n",
    "# print (data)\n",
    "\n",
    "output = \"\\hline\\n\"\n",
    "for i_str in range (len (data[0])):\n",
    "    for i_stolb in range (len (data)):\n",
    "        output += data[i_stolb][i_str] + \" & \"\n",
    "    output = output[0:-2] + \"\\\\\\\\ \\hline\\n\"\n",
    "\n",
    "print (output)"
   ]
  },
  {
   "cell_type": "markdown",
   "metadata": {},
   "source": [
    "    А вот горизонтальная:"
   ]
  },
  {
   "cell_type": "code",
   "execution_count": 21,
   "metadata": {},
   "outputs": [
    {
     "name": "stdout",
     "output_type": "stream",
     "text": [
      "Введите данные:\n",
      "\\hline\n",
      "2630 & 2532 & 1960\n",
      "\\\\ \\hline\n",
      "\n"
     ]
    }
   ],
   "source": [
    "print (\"Введите данные:\")\n",
    "data = input()\n",
    "data = data.replace (' ',  \"\\\\\\\\ \\hline\\n\")\n",
    "data = data.replace ('\\t', \" & \")\n",
    "print (\"\\hline\", data, \"\\\\\\\\ \\hline\\n\", sep = '\\n')"
   ]
  },
  {
   "cell_type": "markdown",
   "metadata": {},
   "source": [
    "    Теперь основная часть:"
   ]
  },
  {
   "cell_type": "markdown",
   "metadata": {},
   "source": [
    "Библиотечки"
   ]
  },
  {
   "cell_type": "code",
   "execution_count": 2,
   "metadata": {},
   "outputs": [],
   "source": [
    "import matplotlib.pyplot as plt\n",
    "import numpy as np\n",
    "import pandas as pd\n",
    "import scipy.optimize as sp_opt\n",
    "from math import sqrt\n",
    "from math import log as ln\n",
    "from math import exp"
   ]
  },
  {
   "cell_type": "markdown",
   "metadata": {},
   "source": [
    "МНК :heart: :heart: :heart:    "
   ]
  },
  {
   "cell_type": "code",
   "execution_count": 3,
   "metadata": {},
   "outputs": [],
   "source": [
    "class MNK_info:\n",
    "    def __init__ (self, k = 0, b = 0, sigma_k = 0, sigma_b = 0):\n",
    "        self.k = k\n",
    "        self.b = b\n",
    "        self.sigma_k = sigma_k\n",
    "        self.sigma_b = sigma_b\n",
    "\n",
    "    def Print (self):\n",
    "        print (\"\\t\" + \"k = \" + str (self.k),\n",
    "               \"\\t\" + \"b = \" + str (self.b),\n",
    "               \"\\t\" + \"sigma_k = \" + str (self.sigma_k),\n",
    "               \"\\t\" + \"sigma_b = \" + str (self.sigma_b),\n",
    "               sep = \"\\n\")\n",
    "\n",
    "def MNK (x, y):\n",
    "    mid = lambda mass: sum (mass) / len (mass)\n",
    "\n",
    "    # y = k * x + b\n",
    "    mid_xy = [x[i] * y[i] for i in range (len (x))]\n",
    "    mid_xy = mid (mid_xy)\n",
    "\n",
    "    mid_x_pow2 = [x_i ** 2 for x_i in x]\n",
    "    mid_x_pow2 = mid (mid_x_pow2)\n",
    "    \n",
    "    mid_y_pow2 = [y_i ** 2 for y_i in y]\n",
    "    mid_y_pow2 = mid (mid_y_pow2)\n",
    "\n",
    "    mid_y = mid (y)\n",
    "    mid_x = mid (x)\n",
    "\n",
    "    k = (mid_xy - mid_x * mid_y ) / (mid_x_pow2 - mid_x ** 2)\n",
    "    b = mid_y - k * mid_x\n",
    "    \n",
    "    sigma_k = 1 / sqrt (len  (x)) * sqrt ((mid_y_pow2 - mid_y ** 2) / (mid_x_pow2 - mid_x ** 2) - k ** 2)\n",
    "    sigma_b = sigma_k * sqrt (mid_x_pow2 - mid_x ** 2)\n",
    "    \n",
    "    return MNK_info (k, b, sigma_k, sigma_b)"
   ]
  },
  {
   "cell_type": "markdown",
   "metadata": {},
   "source": [
    "Данные:"
   ]
  },
  {
   "cell_type": "code",
   "execution_count": 4,
   "id": "9c163b2d",
   "metadata": {
    "scrolled": false
   },
   "outputs": [],
   "source": [
    "neon_lambda = list (map (float, input(\"Neon lamda: \").split()))\n",
    "neon_phi    = list (map (float, input(\"Neon phi: \").split()))"
   ]
  },
  {
   "cell_type": "code",
   "execution_count": 5,
   "id": "26dcb594",
   "metadata": {},
   "outputs": [],
   "source": [
    "hydr_lambda = list (map (float, input(\"Hydr lamda: \").split()))\n",
    "hydr_phi    = list (map (float, input(\"Hydr phi: \").split()))"
   ]
  },
  {
   "cell_type": "markdown",
   "metadata": {},
   "source": [
    "Калибровка: \n",
    "\n",
    "Идеал:\n",
    "\n",
    "$\\lambda(\\varphi) = \\exp (\\sum a_n \\varphi^n)$ (мб $+ C$ ещё)\n",
    "\n",
    "Для этого решаем $A \\cdot a = \\ln (\\lambda)$, где A - матрица Вандермонда, составленная из $\\varphi_k$\n",
    "\n",
    "Но не работает из-за огромность экспоненты.\n",
    "\n",
    "Поэтому ограничимся n = 1:\n",
    "\n",
    "$\\lambda(\\varphi) = a \\cdot \\exp (b \\cdot \\varphi) + c$"
   ]
  },
  {
   "cell_type": "code",
   "execution_count": 6,
   "metadata": {},
   "outputs": [
    {
     "name": "stdout",
     "output_type": "stream",
     "text": [
      "a = 186.29358461660524\n",
      "b = 0.9803929388591602\n",
      "c = 3751.356867615012\n",
      "\n",
      "sigma_a = 10.462323515599977\n",
      "sigma_b = 0.01698358910943385\n",
      "sigma_c = 29.011487506453015\n",
      "\n",
      "delta_a = 0.05616040690360638\n",
      "delta_b = 0.017323247073971076\n",
      "delta_c = 0.007733598409926154\n",
      "\n"
     ]
    }
   ],
   "source": [
    "calib_lambda = neon_lambda + hydr_lambda\n",
    "calib_phi    = neon_phi    + hydr_phi\n",
    "\n",
    "func = lambda x, a, b, c: a * np.exp (b * x / 1000) + c\n",
    "calib_coefs, corr_matrix = sp_opt.curve_fit (func, calib_phi, calib_lambda)\n",
    "\n",
    "sigma_calib_coefs = [sqrt (corr_matrix[i][i]) for i in range (len (corr_matrix))]\n",
    "print (\"a = \", calib_coefs[0], \"\\n\",\n",
    "       \"b = \", calib_coefs[1], \"\\n\",\n",
    "       \"c = \", calib_coefs[2], \"\\n\\n\",\n",
    "       \"sigma_a = \", sigma_calib_coefs[0], \"\\n\",\n",
    "       \"sigma_b = \", sigma_calib_coefs[1], \"\\n\",\n",
    "       \"sigma_c = \", sigma_calib_coefs[2], \"\\n\\n\", sep = '')\n",
    "\n",
    "sigma_lambda = lambda x: exp (calib_coefs[1] * x / 1000) * sigma_calib_coefs[0] + \\\n",
    "        calib_coefs[0] * exp (calib_coefs[1] * x / 1000) * sigma_calib_coefs[1] * x / 1000 + sigma_calib_coefs[2]\n"
   ]
  },
  {
   "cell_type": "code",
   "execution_count": 33,
   "metadata": {},
   "outputs": [],
   "source": [
    "my_phi = list (map (float, input(\"Phi: \").split()))"
   ]
  },
  {
   "cell_type": "code",
   "execution_count": 34,
   "metadata": {},
   "outputs": [
    {
     "name": "stdout",
     "output_type": "stream",
     "text": [
      "6206.050576909922 276.511494629883 116015.81248448315 5169.1015587497195\n",
      "5981.182706922429 250.127382834015 89168.54064933854 3728.943721771646\n",
      "5024.054442377456 142.852047604208 94782.1090818307 2694.9983352842955\n"
     ]
    }
   ],
   "source": [
    "# For hydrogen finding Ridberg constant\n",
    "n = 2\n",
    "m = 3\n",
    "Ze = 1\n",
    "\n",
    "for phi in my_phi:\n",
    "    value = func (phi, *calib_coefs)\n",
    "    sigma = sigma_lambda (phi)\n",
    "    \n",
    "    R = 1 / (value * 1e-8 * Ze * (1/n/n - 1/m/m))\n",
    "    sigma_R = R * sigma / value\n",
    "\n",
    "    print (value, sigma, R, sigma_R)\n",
    "    m += 1"
   ]
  },
  {
   "cell_type": "markdown",
   "metadata": {},
   "source": [
    "График"
   ]
  },
  {
   "cell_type": "code",
   "execution_count": 23,
   "metadata": {},
   "outputs": [
    {
     "data": {
      "image/png": "[encoded data removed]",
      "text/plain": [
       "<Figure size 720x720 with 1 Axes>"
      ]
     },
     "metadata": {
      "needs_background": "light"
     },
     "output_type": "display_data"
    }
   ],
   "source": [
    "plt.rc('font', size = 13)\n",
    "\n",
    "fig = plt.figure(figsize = (10, 10))\n",
    "ax  = fig.add_subplot(1,1,1)\n",
    "\n",
    "# linear = lambda x: MNK_info_curr.k * x + MNK_info_curr.b\n",
    "\n",
    "ax.scatter (neon_phi, neon_lambda, marker = 'x', s=100, label = \"Неон\")\n",
    "ax.scatter (hydr_phi, hydr_lambda, marker = 'x', s=100, label = \"Ртуть\")\n",
    "\n",
    "calib_exp_x = np.linspace (min (calib_phi), max (calib_phi), 100)\n",
    "calib_exp_y = func (calib_exp_x, *calib_coefs)\n",
    "ax.plot (calib_exp_x, calib_exp_y, color = \"green\", label = \"Градуировочная кривая\")\n",
    "\n",
    "ax.set_xlabel ('$\\\\varphi, ~^\\circ$', fontsize = 20)\n",
    "ax.set_ylabel ('$\\\\lambda$, $\\\\AA$',  fontsize = 20)\n",
    "\n",
    "plt.legend(fontsize = 20)\n",
    "ax.grid(True)\n",
    "\n",
    "plt.savefig (\"Picturies/calib.pdf\")"
   ]
  }
 ],
 "metadata": {
  "kernelspec": {
   "display_name": "Python 3.10.6 64-bit",
   "language": "python",
   "name": "python3"
  },
  "language_info": {
   "codemirror_mode": {
    "name": "ipython",
    "version": 3
   },
   "file_extension": ".py",
   "mimetype": "text/x-python",
   "name": "python",
   "nbconvert_exporter": "python",
   "pygments_lexer": "ipython3",
   "version": "3.10.6"
  },
  "metadata": {
   "interpreter": {
    "hash": "916dbcbb3f70747c44a77c7bcd40155683ae19c65e1c03b4aa3499c5328201f1"
   }
  },
  "vscode": {
   "interpreter": {
    "hash": "e7370f93d1d0cde622a1f8e1c04877d8463912d04d973331ad4851f04de6915a"
   }
  }
 },
 "nbformat": 4,
 "nbformat_minor": 4
}
