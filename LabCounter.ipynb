{
 "cells": [
  {
   "cell_type": "markdown",
   "metadata": {},
   "source": [
    "    Это проект Андрея.\n",
    "    О да."
   ]
  },
  {
   "cell_type": "code",
   "execution_count": 4,
   "metadata": {},
   "outputs": [],
   "source": [
    "import matplotlib.pyplot as plt\n",
    "import math\n",
    "import numpy as np"
   ]
  },
  {
   "cell_type": "markdown",
   "metadata": {},
   "source": [
    "    Подсчитаем общие величины:"
   ]
  },
  {
   "cell_type": "code",
   "execution_count": 1,
   "metadata": {
    "scrolled": true
   },
   "outputs": [
    {
     "name": "stdout",
     "output_type": "stream",
     "text": [
      "31.2 30.93 30.71 30.6 30.5 30.69 30.68 31.09 31.4 31.96 32.75 33.84\n"
     ]
    }
   ],
   "source": [
    "#Считывание данных\n",
    "\n",
    "data = list(map(float, input().split()))"
   ]
  },
  {
   "cell_type": "code",
   "execution_count": 2,
   "metadata": {},
   "outputs": [
    {
     "name": "stdout",
     "output_type": "stream",
     "text": [
      "31.2 30.93 30.71 30.6 30.5 30.69 30.68 31.09 31.4 31.96 32.75 33.84\n"
     ]
    }
   ],
   "source": [
    "#Проверка верности ввода\n",
    "\n",
    "print(*data)"
   ]
  },
  {
   "cell_type": "code",
   "execution_count": 9,
   "metadata": {
    "scrolled": true
   },
   "outputs": [
    {
     "name": "stdout",
     "output_type": "stream",
     "text": [
      "68.23\t67.95\t67.63\t67.75\t68.21\t68.31\t68.53\t68.92\t67.82\t67.97\n",
      "67.49\t67.57\t68.59\t67.58\t69.03\t67.72\t68.21\t68.52\t67.38\t68.02\n",
      "67.85\t69.08\t67.84\t69.12\t68.33\t68.85\t68.82\t68.59\t67.55\t67.97\n",
      "66.58\t67.27\t66.92\t67.01\t66.86\t66.54\t67.47\t66.92\t67.43\t67.5\n",
      "67.03\t67.02\t66.94\t67.42\t66.78\t67.89\t67.28\t67.7\t67.59\t67.01\n",
      "67.03\t66.81\t67.22\t67.64\t67.78\t67.22\t66.99\t67.27\t66.88\t66.83\n",
      "68.38\t68.13\t67.85\t68.13\t68.13\t69.9\t68.1\t68.66\t68.03\t67.98\n",
      "68.19\t68.06\t67.98\t68.0\t68.31\t68.69\t67.3\t68.16\t67.83\t67.44\n",
      "68.09\t67.98\t67.14\t66.98\t68.57\t67.65\t68.07\t66.27\t68.81\t68.21\n",
      "67.36\t67.18\t67.76\t68.51\t68.25\t67.85\t67.5\t68.23\t67.7\t68.18\n",
      "67.58\t66.68\t68.27\t67.51\t67.11\t67.87\t68.18\t68.41\t69.08\t69.31\n",
      "67.91\t67.95\t68.61\t68.09\t68.16\t68.49\t67.91\t68.95\t67.91\t68.63\n",
      "67.5\t66.74\t67.54\t66.67\t67.39\t67.26\t67.36\t67.74\t66.85\t67.25\n",
      "66.93\t66.88\t67.43\t66.99\t67.61\t67.49\t67.03\t67.17\t67.05\t67.51\n",
      "69.28\t67.68\t66.93\t67.27\t67.07\t67.82\t67.1\t66.69\t66.89\t68.95\n",
      "67.45\t67.29\t67.2\t67.41\t67.12\t66.9\t67.2\t67.58\t67.28\t67.67\n",
      "67.76\t67.51\t67.23\t67.75\t67.66\t67.7\t67.94\t68.3\t68.45\t68.33\n",
      "67.95\t68.39\t68.32\t68.65\t67.07\t67.95\t70.06\t66.84\t67.22\t67.91\n",
      "68.39\t67.97\t67.85\t68.28\t68.63\t67.68\t67.67\t68.67\t68.1\t68.56\n",
      "67.23\t68.07\t68.96\t69.15\t67.96\t67.28\t68.63\t68.77\t67.91\t68.2\n",
      "68.16\t67.68\t67.61\t67.74\t67.63\t68.16\t68.3\t68.72\t68.5\t68.8\n",
      "67.96\t67.25\t67.07\t66.89\t68.24\t67.33\t67.33\t67.73\t67.22\t67.34\n",
      "67.25\t67.65\t67.12\t67.1\t67.3\t66.9\t66.87\t67.13\t67.82\t67.46\n",
      "66.85\t66.91\t67.1\t68.65\t67.45\t68.08\t66.83\t66.6\t67.23\t67.92\n",
      "68.66\t67.56\t68.17\t68.44\t67.61\t67.33\t67.3\t68.37\t67.72\t67.59\n",
      "67.58\t67.38\t68.21\t67.41\t67.95\t68.72\t68.8\t68.24\t67.4\t68.44\n",
      "67.64\t68.44\t68.24\t67.84\t68.62\t67.92\t68.64\t67.76\t67.75\t67.69\n"
     ]
    }
   ],
   "source": [
    "#Вывод таблицей\n",
    "height = 27\n",
    "weight = 10\n",
    "for i in range(height):\n",
    "    print(*data [i*weight : (i+1)*weight], sep = '\\t')"
   ]
  },
  {
   "cell_type": "code",
   "execution_count": 2,
   "metadata": {},
   "outputs": [
    {
     "name": "stdout",
     "output_type": "stream",
     "text": [
      "66.27\n",
      "67.77714814814813\n",
      "70.06\n"
     ]
    }
   ],
   "source": [
    "#Подсчёт минимального, среднего, максимального\n",
    "data_min = min(data)\n",
    "data_mid = sum(data) / len(data)\n",
    "data_max = max(data)\n",
    "print(data_min, data_mid, data_max, sep = '\\n')"
   ]
  },
  {
   "cell_type": "code",
   "execution_count": 6,
   "metadata": {},
   "outputs": [
    {
     "name": "stdout",
     "output_type": "stream",
     "text": [
      "0.6468210127203435\n"
     ]
    }
   ],
   "source": [
    "#Среднеквадратичная погрешность\n",
    "sigma = math.sqrt(sum((data[i] - data_mid) ** 2 for i in range (len (data))) / len (data))\n",
    "print(sigma)"
   ]
  },
  {
   "cell_type": "code",
   "execution_count": 10,
   "metadata": {},
   "outputs": [
    {
     "name": "stdout",
     "output_type": "stream",
     "text": [
      "99.25925925925925\n"
     ]
    }
   ],
   "source": [
    "num = 0\n",
    "for i in data:\n",
    "    if i > data_mid - sigma * 3 and i < data_mid + sigma * 3:\n",
    "        num += 1\n",
    "print(num / len (data) * 100)"
   ]
  },
  {
   "cell_type": "markdown",
   "metadata": {},
   "source": [
    "    Построим гистограммы:"
   ]
  },
  {
   "cell_type": "code",
   "execution_count": 65,
   "metadata": {},
   "outputs": [
    {
     "name": "stdout",
     "output_type": "stream",
     "text": [
      "0.1895000000000003\n"
     ]
    }
   ],
   "source": [
    "m = 20 #количество столбцов\n",
    "delta_data = (data_max - data_min) / m #шаг\n",
    "print(delta_data)"
   ]
  },
  {
   "cell_type": "code",
   "execution_count": 66,
   "metadata": {},
   "outputs": [
    {
     "name": "stdout",
     "output_type": "stream",
     "text": [
      "1 3 8 23 19 31 28 31 30 21 24 14 18 7 6 3 1 0 0 2\n",
      "20 59 156 450 371 606 547 606 586 410 469 274 352 137 117 59 20 0 0 39 "
     ]
    }
   ],
   "source": [
    "#разбиение для гистограммы\n",
    "eps = math.pow(10, -6)\n",
    "data_w = [0]*m\n",
    "data_points = [data_min + delta_data * i for i in range (m)]\n",
    "for i in range (len (data)):\n",
    "    x = math.trunc((data[i] - data_min - eps) / delta_data)\n",
    "    data_w[x] += 1\n",
    "print(*data_w)\n",
    "for i in range (m):\n",
    "    data_w[i] /= len (data) * delta_data\n",
    "#print(*data_w)\n",
    "for i in data_w:\n",
    "    print(round (i*1000), end = \" \")"
   ]
  },
  {
   "cell_type": "code",
   "execution_count": 34,
   "metadata": {},
   "outputs": [],
   "source": [
    "# Ввод функции\n",
    "def func (num): \n",
    "    global sigma\n",
    "    global data_mid\n",
    "    return 1 / math.sqrt (2*math.pi) / sigma * math.pow (math.e, -(num - data_mid) ** 2 / 2 / sigma ** 2)\n",
    "data_sorted = sorted(data)\n",
    "data_func = [func (data_sorted[i]) for i in range (len (data_sorted))]"
   ]
  },
  {
   "cell_type": "code",
   "execution_count": 60,
   "metadata": {
    "scrolled": true
   },
   "outputs": [
    {
     "data": {
      "image/png": "[encoded data removed]",
      "text/plain": [
       "<Figure size 432x288 with 1 Axes>"
      ]
     },
     "metadata": {
      "needs_background": "light"
     },
     "output_type": "display_data"
    }
   ],
   "source": [
    "fig = plt.figure()\n",
    "ax = fig.add_subplot(1,1,1)\n",
    "\n",
    "# Гистограмма\n",
    "ax.bar (data_points, data_w, width = delta_data);\n",
    "# Нормальное распределение\n",
    "ax.plot (data_sorted, data_func, linewidth = 3, color = \"red\");\n",
    "# Вертикальные линии\n",
    "ax.plot ([data_mid] * 2, [0] + [0.6], color = \"yellow\", linestyle = '--');\n",
    "ax.plot ([data_mid - sigma] * 2, [0] + [0.6], color = \"yellow\", linestyle = '--');\n",
    "ax.plot ([data_mid + sigma] * 2, [0] + [0.6], color = \"yellow\", linestyle = '--');"
   ]
  },
  {
   "cell_type": "markdown",
   "metadata": {},
   "source": []
  }
 ],
 "metadata": {
  "kernelspec": {
   "display_name": "Python 3",
   "language": "python",
   "name": "python3"
  },
  "language_info": {
   "codemirror_mode": {
    "name": "ipython",
    "version": 3
   },
   "file_extension": ".py",
   "mimetype": "text/x-python",
   "name": "python",
   "nbconvert_exporter": "python",
   "pygments_lexer": "ipython3",
   "version": "3.8.5"
  }
 },
 "nbformat": 4,
 "nbformat_minor": 4
}
