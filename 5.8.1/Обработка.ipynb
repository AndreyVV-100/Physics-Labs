{
 "cells": [
  {
   "cell_type": "markdown",
   "metadata": {},
   "source": [
    "    LaTeX генератор таблиц (наконец-то полноценный, ориентация вертикальная):"
   ]
  },
  {
   "cell_type": "code",
   "execution_count": 5,
   "metadata": {
    "scrolled": false
   },
   "outputs": [
    {
     "name": "stdout",
     "output_type": "stream",
     "text": [
      "Введите данные:\n",
      "\\hline\n",
      "0 & 91 & 6.48 & 108.37 \\\\ \\hline\n",
      "3.37 & 91.25 & 6.26 & 106.48 \\\\ \\hline\n",
      "3.72 & 93.25 & 5.92 & 105.1 \\\\ \\hline\n",
      "4.01 & 94.93 & 5.52 & 103.02 \\\\ \\hline\n",
      "4.47 & 97.53 & 5.34 & 102.05 \\\\ \\hline\n",
      "4.76 & 99.15 & 4.87 & 99.25 \\\\ \\hline\n",
      "5.25 & 102.05 & 4.64 & 98.05 \\\\ \\hline\n",
      "5.47 & 103.33 & 3.8 & 93.55 \\\\ \\hline\n",
      "5.78 & 105.12 & 3.5 & 92.02 \\\\ \\hline\n",
      "6.28 & 107.15 & 3.22 & 90.25 \\\\ \\hline\n",
      "6.48 & 108.37 & 2.76 & 87.67 \\\\ \\hline\n",
      "--- & --- & 2.26 & 84.97 \\\\ \\hline\n",
      "--- & --- & 1.41 & 80.52 \\\\ \\hline\n",
      "--- & --- & 0 & 75.4 \\\\ \\hline\n",
      "\n"
     ]
    }
   ],
   "source": [
    "print (\"Введите данные:\")\n",
    "no_parse_data = input().split(' ')\n",
    "data = [i_stolb.split() for i_stolb in no_parse_data]\n",
    "# print (data)\n",
    "\n",
    "output = \"\\hline\\n\"\n",
    "for i_str in range (len (data[0])):\n",
    "    for i_stolb in range (len (data)):\n",
    "        output += data[i_stolb][i_str] + \" & \"\n",
    "    output = output[0:-2] + \"\\\\\\\\ \\hline\\n\"\n",
    "\n",
    "print (output)"
   ]
  },
  {
   "cell_type": "markdown",
   "metadata": {},
   "source": [
    "    А вот горизонтальная:"
   ]
  },
  {
   "cell_type": "code",
   "execution_count": 1,
   "metadata": {},
   "outputs": [
    {
     "name": "stdout",
     "output_type": "stream",
     "text": [
      "Введите данные:\n",
      "\\hline\n",
      "T_пир,\\\\ \\hline\n",
      "C & 900 & 1000 & 1100 & 1200 & 1300 & 1400 & 1500 & 1600 & 1700 & 1800 & 1900\\\\ \\hline\n",
      "U,\\\\ \\hline\n",
      "В & 1.710 & 1.973 & 2.449 & 2.942 & 3.214 & 3.891 & 4.660 & 5.287 & 6.243 & 7.245 & 7.797\\\\ \\hline\n",
      "I,\\\\ \\hline\n",
      "А & 0.485 & 0.511 & 0.558 & 0.603 & 0.627 & 0.684 & 0.745 & 0.793 & 0.861 & 0.929 & 0.964\n",
      "\\\\ \\hline\n",
      "\n"
     ]
    }
   ],
   "source": [
    "print (\"Введите данные:\")\n",
    "data = input()\n",
    "data = data.replace (' ',  \"\\\\\\\\ \\hline\\n\")\n",
    "data = data.replace ('\\t', \" & \")\n",
    "print (\"\\hline\", data, \"\\\\\\\\ \\hline\\n\", sep = '\\n')"
   ]
  },
  {
   "cell_type": "markdown",
   "metadata": {},
   "source": [
    "    Теперь основная часть:"
   ]
  },
  {
   "cell_type": "code",
   "execution_count": 8,
   "metadata": {},
   "outputs": [],
   "source": [
    "import matplotlib.pyplot as plt\n",
    "import numpy as np\n",
    "import pandas as pd"
   ]
  },
  {
   "cell_type": "code",
   "execution_count": 2,
   "metadata": {},
   "outputs": [],
   "source": [
    "class MNK_info:\n",
    "    def __init__ (self, k = 0, b = 0, sigma_k = 0, sigma_b = 0):\n",
    "        self.k = k\n",
    "        self.b = b\n",
    "        self.sigma_k = sigma_k\n",
    "        self.sigma_b = sigma_b\n",
    "\n",
    "    def Print (self):\n",
    "        print (\"\\t\" + \"k = \" + str (self.k),\n",
    "               \"\\t\" + \"b = \" + str (self.b),\n",
    "               \"\\t\" + \"sigma_k = \" + str (self.sigma_k),\n",
    "               \"\\t\" + \"sigma_b = \" + str (self.sigma_b),\n",
    "               sep = \"\\n\")\n",
    "\n",
    "def MNK (x, y):\n",
    "    mid = lambda mass: sum (mass) / len (mass)\n",
    "\n",
    "    # y = k * x + b\n",
    "    mid_xy = [x[i] * y[i] for i in range (len (x))]\n",
    "    mid_xy = mid (mid_xy)\n",
    "\n",
    "    mid_x_pow2 = [x_i ** 2 for x_i in x]\n",
    "    mid_x_pow2 = mid (mid_x_pow2)\n",
    "    \n",
    "    mid_y_pow2 = [y_i ** 2 for y_i in y]\n",
    "    mid_y_pow2 = mid (mid_y_pow2)\n",
    "\n",
    "    mid_y = mid (y)\n",
    "    mid_x = mid (x)\n",
    "\n",
    "    k = (mid_xy - mid_x * mid_y ) / (mid_x_pow2 - mid_x ** 2)\n",
    "    b = mid_y - k * mid_x\n",
    "    \n",
    "    sigma_k = 1 / np.sqrt (len  (x)) * np.sqrt ((mid_y_pow2 - mid_y ** 2) / (mid_x_pow2 - mid_x ** 2) - k ** 2)\n",
    "    sigma_b = sigma_k * np.sqrt (mid_x_pow2 - mid_x ** 2)\n",
    "    \n",
    "    return MNK_info (k, b, sigma_k, sigma_b)"
   ]
  },
  {
   "cell_type": "markdown",
   "metadata": {},
   "source": [
    "Данные"
   ]
  },
  {
   "cell_type": "code",
   "execution_count": 51,
   "metadata": {},
   "outputs": [],
   "source": [
    "T_FOR_EPS = np.array ([  800,   900,  1000,  1100,  1200,  1300,  1400,  1500,  1600,  1700,  1800,  1900,  2000])\n",
    "EPS_T     = np.array ([0.067, 0.081, 0.105, 0.119, 0.133, 0.144, 0.164, 0.179, 0.195, 0.209, 0.223, 0.236, 0.249])\n",
    "\n",
    "def NearestEps (T):\n",
    "    if (T < T_FOR_EPS[0]):\n",
    "        return EPS_T[0]\n",
    "\n",
    "    for i_T in range (6): #it's stupid, but mne pohui\n",
    "        if (abs (T_FOR_EPS[i_T] - T) <= 50):\n",
    "            return EPS_T[i_T]\n",
    "\n",
    "    # после 1400 зависимость линейная\n",
    "    return (EPS_T[-1] - EPS_T[6]) / (T_FOR_EPS[-1] - T_FOR_EPS[6]) * (T - T_FOR_EPS[6]) + EPS_T[6]"
   ]
  },
  {
   "cell_type": "code",
   "execution_count": 4,
   "metadata": {},
   "outputs": [],
   "source": [
    "T_br = list (map (int,   input (\"T: \").split())) # in C\n",
    "U    = list (map (float, input (\"U: \").split()))\n",
    "I    = list (map (float, input (\"I: \").split()))"
   ]
  },
  {
   "cell_type": "code",
   "execution_count": 52,
   "metadata": {},
   "outputs": [
    {
     "name": "stdout",
     "output_type": "stream",
     "text": [
      "1213.38 1319.38 1425.38 1531.38 1637.38 1743.38 1849.38 1955.38 2061.38 2167.38 2273.38\n",
      "0.8293499999999999 1.008203 1.3665420000000001 1.774026 2.015178 2.6614440000000004 3.4717000000000002 4.192591 5.375223 6.730605000000001 7.5163079999999995\n",
      "7.990912556982782e-12 6.418054587676693e-12 5.487006652491041e-12 4.9067720975511206e-12 3.940602969463623e-12 3.763486801241288e-12 3.6211306739589774e-12 3.2826412548824725e-12 3.208890654718808e-12 3.1067538359467055e-12 2.7166303148389397e-12\n"
     ]
    }
   ],
   "source": [
    "# Яркостная -> термодинамическая, подобрано на глазок. \n",
    "K_BR_TERM = 1.06\n",
    "B_BR_TERM = -30\n",
    "\n",
    "T_term = (np.array (T_br) + 273) * K_BR_TERM + B_BR_TERM # in K\n",
    "W = np.array (U) * np.array (I)\n",
    "eps_T = np.array ([NearestEps (T_term_i) for T_term_i in T_term])\n",
    "\n",
    "print (*T_term)\n",
    "print (*W)\n",
    "\n",
    "ln_T = np.log (T_term)\n",
    "ln_W = np.log (W)\n",
    "ln_eps_T = np.log (eps_T)"
   ]
  },
  {
   "cell_type": "code",
   "execution_count": 56,
   "metadata": {},
   "outputs": [
    {
     "name": "stdout",
     "output_type": "stream",
     "text": [
      "sigma:\n",
      " 7.990912556982782e-12 6.418054587676693e-12 5.487006652491041e-12 4.9067720975511206e-12 3.940602969463623e-12 3.763486801241288e-12 3.6211306739589774e-12 3.2826412548824725e-12 3.208890654718808e-12 3.1067538359467055e-12 2.7166303148389397e-12\n",
      "h:\n",
      " 5.90918329930018e-34 6.357091351702239e-34 6.698040341654784e-34 6.952285934235587e-34 7.47949072127624e-34 7.59502933139617e-34 7.6932796994751776e-34 7.94910890102043e-34 8.009546892846253e-34 8.096375464258172e-34 8.466737078144352e-34\n"
     ]
    }
   ],
   "source": [
    "S = 0.36 # м^2\n",
    "k_B = 1.38049e-23\n",
    "c = 2.997928e10\n",
    "\n",
    "sigma = W / eps_T / S / np.power (T_term, 4)\n",
    "h = np.power ((2 * np.pi**5 * k_B**4 / 15 / c**2) / sigma, 1.0 / 3)\n",
    "\n",
    "print (\"sigma:\\n\", *sigma)\n",
    "print (\"h:\\n\", *h)"
   ]
  },
  {
   "cell_type": "code",
   "execution_count": 53,
   "metadata": {},
   "outputs": [
    {
     "name": "stdout",
     "output_type": "stream",
     "text": [
      "\tk = 4.006602153089706\n",
      "\tb = -28.910424109377676\n",
      "\tsigma_k = 0.12182750165417709\n",
      "\tsigma_b = 0.0110414577948002\n"
     ]
    }
   ],
   "source": [
    "# МНК для ln. Берём область высоких температур (1700К)\n",
    "i_high = 0\n",
    "while (T_term[i_high] < 1700):\n",
    "    i_high += 1\n",
    "\n",
    "MNK_ln = MNK (ln_T[i_high : ln_T.size], ln_W[i_high : ln_T.size]) # пробовал -ln_epsT, выходит хуета.\n",
    "MNK_ln.Print()\n",
    "\n",
    "# МНК для обычного + график\n",
    "k_not_ln = np.exp (MNK_ln.b)\n",
    "T_linspace = np.linspace (min (T_term), max (T_term), 100)\n",
    "W_linspace = np.power (T_linspace, MNK_ln.k) * k_not_ln"
   ]
  },
  {
   "cell_type": "markdown",
   "metadata": {},
   "source": [
    "Графики"
   ]
  },
  {
   "cell_type": "code",
   "execution_count": 54,
   "metadata": {},
   "outputs": [
    {
     "data": {
      "image/png": "[encoded data removed]",
      "text/plain": [
       "<Figure size 720x720 with 1 Axes>"
      ]
     },
     "metadata": {
      "needs_background": "light"
     },
     "output_type": "display_data"
    }
   ],
   "source": [
    "plt.rc('font', size = 13)\n",
    "\n",
    "fig = plt.figure(figsize = (10, 10))\n",
    "ax  = fig.add_subplot(1,1,1)\n",
    "\n",
    "ax.scatter (T_term, W, marker = 'x', s=100)\n",
    "ax.plot (T_linspace, W_linspace)\n",
    "\n",
    "ax.set_xlabel ('$T$, К',  fontsize = 20)\n",
    "ax.set_ylabel ('$W$, Вт', fontsize = 20)\n",
    "\n",
    "# plt.legend(fontsize = 20)\n",
    "ax.grid(True)\n",
    "\n",
    "plt.savefig (\"Picturies/graphW.pdf\")"
   ]
  },
  {
   "cell_type": "code",
   "execution_count": 55,
   "metadata": {},
   "outputs": [
    {
     "data": {
      "image/png": "[encoded data removed]",
      "text/plain": [
       "<Figure size 720x720 with 1 Axes>"
      ]
     },
     "metadata": {
      "needs_background": "light"
     },
     "output_type": "display_data"
    }
   ],
   "source": [
    "plt.rc('font', size = 13)\n",
    "\n",
    "fig = plt.figure(figsize = (10, 10))\n",
    "ax  = fig.add_subplot(1,1,1)\n",
    "\n",
    "linear = lambda x: MNK_ln.k * x + MNK_ln.b\n",
    "\n",
    "ax.scatter (ln_T, ln_W, marker = 'x', s=100)\n",
    "ax.plot ([min (ln_T), max (ln_T)], [linear (min (ln_T)), linear (max (ln_T))])\n",
    "\n",
    "ax.set_xlabel ('$\\ln T$, К',  fontsize = 20)\n",
    "ax.set_ylabel ('$\\ln W$, Вт', fontsize = 20)\n",
    "\n",
    "# plt.legend(fontsize = 20)\n",
    "ax.grid(True)\n",
    "\n",
    "plt.savefig (\"Picturies/graphlnW.pdf\")"
   ]
  }
 ],
 "metadata": {
  "kernelspec": {
   "display_name": "Python 3.10.6 64-bit",
   "language": "python",
   "name": "python3"
  },
  "language_info": {
   "codemirror_mode": {
    "name": "ipython",
    "version": 3
   },
   "file_extension": ".py",
   "mimetype": "text/x-python",
   "name": "python",
   "nbconvert_exporter": "python",
   "pygments_lexer": "ipython3",
   "version": "3.10.6"
  },
  "metadata": {
   "interpreter": {
    "hash": "916dbcbb3f70747c44a77c7bcd40155683ae19c65e1c03b4aa3499c5328201f1"
   }
  },
  "vscode": {
   "interpreter": {
    "hash": "e7370f93d1d0cde622a1f8e1c04877d8463912d04d973331ad4851f04de6915a"
   }
  }
 },
 "nbformat": 4,
 "nbformat_minor": 4
}
