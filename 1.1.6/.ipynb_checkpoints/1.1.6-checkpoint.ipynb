{
 "cells": [
  {
   "cell_type": "code",
   "execution_count": 1,
   "metadata": {},
   "outputs": [],
   "source": [
    "import matplotlib.pyplot as plt\n",
    "import math\n",
    "import numpy as np"
   ]
  },
  {
   "cell_type": "code",
   "execution_count": 9,
   "metadata": {},
   "outputs": [
    {
     "name": "stdout",
     "output_type": "stream",
     "text": [
      "0\t0.6\t0.8\t1\t1.1\t1.2\t1.3\t3\t5.9\t5.95\t6\t6.3\t6.5\t6.6\t6.7\n",
      "1.2\t3.2\t3.6\t3.7\t3.8\t3.9\t3.9\t4\t3.9\t3.9\t3.9\t3.7\t3.6\t3.6\t3.6\n",
      "4\t4\t4\t4\t4\t4\t4\t4\t3.9\t3.9\t3.9\t3.7\t3.6\t3.6\t3.6\n",
      "0.0 0.6 0.8 1.0 1.1 1.2 1.3 3.0 5.9 5.95 6.0 6.3 6.5 6.6 6.7\n",
      "1.2 3.2 3.6 3.7 3.8 3.9 3.9 4.0 3.9 3.9 3.9 3.7 3.6 3.6 3.6\n",
      "4.0 4.0 4.0 4.0 4.0 4.0 4.0 4.0 3.9 3.9 3.9 3.7 3.6 3.6 3.6\n"
     ]
    }
   ],
   "source": [
    "#Считывание данных\n",
    "\n",
    "lgf = list(map(float, input().split()))\n",
    "AC = list(map(float, input().split()))\n",
    "DC = list(map(float, input().split()))\n",
    "\n",
    "print (*lgf)\n",
    "print (*AC)\n",
    "print (*DC)"
   ]
  },
  {
   "cell_type": "code",
   "execution_count": 10,
   "metadata": {},
   "outputs": [],
   "source": [
    "AC = [ac / 4 for ac in AC]\n",
    "DC = [dc / 4 for dc in DC]"
   ]
  },
  {
   "cell_type": "code",
   "execution_count": 24,
   "metadata": {},
   "outputs": [
    {
     "data": {
      "image/png": "[encoded data removed]",
      "text/plain": [
       "<Figure size 432x288 with 1 Axes>"
      ]
     },
     "metadata": {
      "needs_background": "light"
     },
     "output_type": "display_data"
    }
   ],
   "source": [
    "fig1 = plt.figure()\n",
    "ax1 = fig1.add_subplot(1,1,1)\n",
    "\n",
    "ax1.plot (lgf, DC, linewidth = 5, color = \"lightgrey\");\n",
    "ax1.plot (lgf, AC, linewidth = 1, color = \"black\");"
   ]
  },
  {
   "cell_type": "code",
   "execution_count": 22,
   "metadata": {
    "scrolled": true
   },
   "outputs": [
    {
     "name": "stdout",
     "output_type": "stream",
     "text": [
      "1\t3\t6\t6.18\t6.3\t6.4\t6.48\t6.54\t6.6\n",
      "0\t0\t0.52\t0.8\t1\t1.57\t1.81\t2.41\t2.74\n",
      "1.0 3.0 6.0 6.18 6.3 6.4 6.48 6.54 6.6\n",
      "0.0 0.0 0.52 0.8 1.0 1.57 1.81 2.41 2.74\n"
     ]
    }
   ],
   "source": [
    "# Второй график\n",
    "lg_f = list(map(float, input().split()))\n",
    "phi  = list(map(float, input().split()))\n",
    "\n",
    "print (*lg_f)\n",
    "print (*phi)"
   ]
  },
  {
   "cell_type": "code",
   "execution_count": 48,
   "metadata": {},
   "outputs": [],
   "source": [
    "# Подгон экспоненты под экспоненту, просто график похожим выйдет\n",
    "x_exp = [6 + i / 100 for i in range (60)]\n",
    "y_exp = [2.74 * math.exp (x-6) - 2.19 for x in x_exp]"
   ]
  },
  {
   "cell_type": "code",
   "execution_count": 50,
   "metadata": {
    "scrolled": true
   },
   "outputs": [
    {
     "data": {
      "image/png": "[encoded data removed]",
      "text/plain": [
       "<Figure size 432x288 with 1 Axes>"
      ]
     },
     "metadata": {
      "needs_background": "light"
     },
     "output_type": "display_data"
    }
   ],
   "source": [
    "fig2 = plt.figure()\n",
    "ax2 = fig2.add_subplot(1,1,1)\n",
    "\n",
    "ax2.scatter (lg_f, phi);"
   ]
  }
 ],
 "metadata": {
  "kernelspec": {
   "display_name": "Python 3",
   "language": "python",
   "name": "python3"
  },
  "language_info": {
   "codemirror_mode": {
    "name": "ipython",
    "version": 3
   },
   "file_extension": ".py",
   "mimetype": "text/x-python",
   "name": "python",
   "nbconvert_exporter": "python",
   "pygments_lexer": "ipython3",
   "version": "3.8.5"
  }
 },
 "nbformat": 4,
 "nbformat_minor": 4
}
