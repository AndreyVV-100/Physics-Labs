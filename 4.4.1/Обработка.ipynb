{
 "cells": [
  {
   "cell_type": "markdown",
   "metadata": {},
   "source": [
    "    LaTeX генератор таблиц (наконец-то полноценный, ориентация вертикальная):"
   ]
  },
  {
   "cell_type": "code",
   "execution_count": 5,
   "metadata": {
    "scrolled": false
   },
   "outputs": [
    {
     "name": "stdout",
     "output_type": "stream",
     "text": [
      "Введите данные:\n",
      "\\hline\n",
      "0 & 91 & 6.48 & 108.37 \\\\ \\hline\n",
      "3.37 & 91.25 & 6.26 & 106.48 \\\\ \\hline\n",
      "3.72 & 93.25 & 5.92 & 105.1 \\\\ \\hline\n",
      "4.01 & 94.93 & 5.52 & 103.02 \\\\ \\hline\n",
      "4.47 & 97.53 & 5.34 & 102.05 \\\\ \\hline\n",
      "4.76 & 99.15 & 4.87 & 99.25 \\\\ \\hline\n",
      "5.25 & 102.05 & 4.64 & 98.05 \\\\ \\hline\n",
      "5.47 & 103.33 & 3.8 & 93.55 \\\\ \\hline\n",
      "5.78 & 105.12 & 3.5 & 92.02 \\\\ \\hline\n",
      "6.28 & 107.15 & 3.22 & 90.25 \\\\ \\hline\n",
      "6.48 & 108.37 & 2.76 & 87.67 \\\\ \\hline\n",
      "--- & --- & 2.26 & 84.97 \\\\ \\hline\n",
      "--- & --- & 1.41 & 80.52 \\\\ \\hline\n",
      "--- & --- & 0 & 75.4 \\\\ \\hline\n",
      "\n"
     ]
    }
   ],
   "source": [
    "print (\"Введите данные:\")\n",
    "no_parse_data = input().split(' ')\n",
    "data = [i_stolb.split() for i_stolb in no_parse_data]\n",
    "# print (data)\n",
    "\n",
    "output = \"\\hline\\n\"\n",
    "for i_str in range (len (data[0])):\n",
    "    for i_stolb in range (len (data)):\n",
    "        output += data[i_stolb][i_str] + \" & \"\n",
    "    output = output[0:-2] + \"\\\\\\\\ \\hline\\n\"\n",
    "\n",
    "print (output)"
   ]
  },
  {
   "cell_type": "markdown",
   "metadata": {},
   "source": [
    "    А вот горизонтальная:"
   ]
  },
  {
   "cell_type": "code",
   "execution_count": 1,
   "metadata": {},
   "outputs": [
    {
     "name": "stdout",
     "output_type": "stream",
     "text": [
      "Введите данные:\n",
      "\\hline\n",
      "бел & фиол & син & гол & зел & желт\\\\ \\hline\n",
      "2 & желт\\\\ \\hline\n",
      "1 & К2\n",
      "\\\\ \\hline\n",
      "\n"
     ]
    }
   ],
   "source": [
    "print (\"Введите данные:\")\n",
    "data = input()\n",
    "data = data.replace (' ',  \"\\\\\\\\ \\hline\\n\")\n",
    "data = data.replace ('\\t', \" & \")\n",
    "print (\"\\hline\", data, \"\\\\\\\\ \\hline\\n\", sep = '\\n')"
   ]
  },
  {
   "cell_type": "markdown",
   "metadata": {},
   "source": [
    "    Теперь основная часть:"
   ]
  },
  {
   "cell_type": "code",
   "execution_count": 1,
   "metadata": {},
   "outputs": [],
   "source": [
    "import matplotlib.pyplot as plt\n",
    "import numpy as np\n",
    "import pandas as pd\n",
    "from math import sqrt\n",
    "from math import log as ln"
   ]
  },
  {
   "cell_type": "code",
   "execution_count": 2,
   "metadata": {},
   "outputs": [],
   "source": [
    "def MNK (x, y):\n",
    "    mid = lambda mass: sum (mass) / len (mass)\n",
    "\n",
    "    # y = k * x + b\n",
    "    mid_xy = [x[i] * y[i] for i in range (len (x))]\n",
    "    mid_xy = mid (mid_xy)\n",
    "\n",
    "    mid_x_pow2 = [x_i ** 2 for x_i in x]\n",
    "    mid_x_pow2 = mid (mid_x_pow2)\n",
    "    \n",
    "    mid_y_pow2 = [y_i ** 2 for y_i in y]\n",
    "    mid_y_pow2 = mid (mid_y_pow2)\n",
    "\n",
    "    mid_y = mid (y)\n",
    "    mid_x = mid (x)\n",
    "\n",
    "    k = (mid_xy - mid_x * mid_y ) / (mid_x_pow2 - mid_x ** 2)\n",
    "    b = mid_y - k * mid_x\n",
    "    \n",
    "    sigma_k = 1 / sqrt (len  (x)) * sqrt ((mid_y_pow2 - mid_y ** 2) / (mid_x_pow2 - mid_x ** 2) - k ** 2)\n",
    "    sigma_b = sigma_k * sqrt (mid_x_pow2 - mid_x ** 2)\n",
    "    \n",
    "    return [k, b, sigma_k, sigma_b]"
   ]
  },
  {
   "cell_type": "code",
   "execution_count": 6,
   "metadata": {},
   "outputs": [
    {
     "name": "stdout",
     "output_type": "stream",
     "text": [
      "0.0004748842940563349\n",
      "0.015314102518592054\n",
      "1.6430100975588527e-05\n",
      "0.0012304585610121291\n"
     ]
    }
   ],
   "source": [
    "sin_phi_1 = list (map (float, input(\"sin: \").split()))\n",
    "lambda_1  = list (map (float, input(\"lambda: \").split()))\n",
    "\n",
    "k1, b1, sigma_k1, sigma_b1 = MNK (lambda_1, sin_phi_1)\n",
    "print (k1, b1, sigma_k1, sigma_b1, sep = '\\n')"
   ]
  },
  {
   "cell_type": "code",
   "execution_count": 7,
   "metadata": {},
   "outputs": [
    {
     "name": "stdout",
     "output_type": "stream",
     "text": [
      "-0.000526214304011916\n",
      "0.013950579969197852\n",
      "2.7469375057301586e-05\n",
      "0.0020571953730003714\n"
     ]
    }
   ],
   "source": [
    "sin_phi_2 = list (map (float, input(\"sin: \").split()))\n",
    "lambda_2  = list (map (float, input(\"lambda: \").split()))\n",
    "\n",
    "k2, b2, sigma_k2, sigma_b2 = MNK (lambda_2, sin_phi_2)\n",
    "print (k2, b2, sigma_k2, sigma_b2, sep = '\\n')"
   ]
  },
  {
   "cell_type": "code",
   "execution_count": 8,
   "metadata": {},
   "outputs": [
    {
     "data": {
      "image/png": "[encoded data removed]",
      "text/plain": [
       "<Figure size 720x720 with 1 Axes>"
      ]
     },
     "metadata": {
      "needs_background": "light"
     },
     "output_type": "display_data"
    }
   ],
   "source": [
    "plt.rc('font', size = 13) \n",
    "fig = plt.figure(figsize = (10, 10))\n",
    "ax  = fig.add_subplot(1,1,1)\n",
    "\n",
    "linear1 = lambda x: k1 * x + b1\n",
    "linear2 = lambda x: k2 * x + b2\n",
    "\n",
    "ax.scatter (lambda_1, sin_phi_1, marker = 'x', label = \"m = -1\")\n",
    "ax.plot ([lambda_1[0], lambda_1[-1]], [linear1 (lambda_1[0]), linear1 (lambda_1[-1])])\n",
    "\n",
    "ax.scatter (lambda_2, sin_phi_2, marker = 'x', label = \"m = +1\")\n",
    "ax.plot ([lambda_2[0], lambda_2[-1]], [linear2 (lambda_2[0]), linear2 (lambda_2[-1])])\n",
    "\n",
    "ax.set_xlabel('sin $\\phi$', fontsize = 20)\n",
    "ax.set_ylabel('$\\lambda$, нм',  fontsize = 20)\n",
    "\n",
    "plt.legend(fontsize = 20)\n",
    "ax.grid(True)\n",
    "\n",
    "plt.savefig (\"Picturies/graph.pdf\")"
   ]
  }
 ],
 "metadata": {
  "interpreter": {
   "hash": "916dbcbb3f70747c44a77c7bcd40155683ae19c65e1c03b4aa3499c5328201f1"
  },
  "kernelspec": {
   "display_name": "Python 3.8.10 64-bit",
   "name": "python3"
  },
  "language_info": {
   "codemirror_mode": {
    "name": "ipython",
    "version": 3
   },
   "file_extension": ".py",
   "mimetype": "text/x-python",
   "name": "python",
   "nbconvert_exporter": "python",
   "pygments_lexer": "ipython3",
   "version": "3.9.5"
  },
  "metadata": {
   "interpreter": {
    "hash": "916dbcbb3f70747c44a77c7bcd40155683ae19c65e1c03b4aa3499c5328201f1"
   }
  }
 },
 "nbformat": 4,
 "nbformat_minor": 4
}
