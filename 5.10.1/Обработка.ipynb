{
 "cells": [
  {
   "cell_type": "markdown",
   "metadata": {},
   "source": [
    "    LaTeX генератор таблиц (наконец-то полноценный, ориентация вертикальная):"
   ]
  },
  {
   "cell_type": "code",
   "execution_count": 5,
   "metadata": {
    "scrolled": false
   },
   "outputs": [
    {
     "name": "stdout",
     "output_type": "stream",
     "text": [
      "Введите данные:\n",
      "\\hline\n",
      "0 & 91 & 6.48 & 108.37 \\\\ \\hline\n",
      "3.37 & 91.25 & 6.26 & 106.48 \\\\ \\hline\n",
      "3.72 & 93.25 & 5.92 & 105.1 \\\\ \\hline\n",
      "4.01 & 94.93 & 5.52 & 103.02 \\\\ \\hline\n",
      "4.47 & 97.53 & 5.34 & 102.05 \\\\ \\hline\n",
      "4.76 & 99.15 & 4.87 & 99.25 \\\\ \\hline\n",
      "5.25 & 102.05 & 4.64 & 98.05 \\\\ \\hline\n",
      "5.47 & 103.33 & 3.8 & 93.55 \\\\ \\hline\n",
      "5.78 & 105.12 & 3.5 & 92.02 \\\\ \\hline\n",
      "6.28 & 107.15 & 3.22 & 90.25 \\\\ \\hline\n",
      "6.48 & 108.37 & 2.76 & 87.67 \\\\ \\hline\n",
      "--- & --- & 2.26 & 84.97 \\\\ \\hline\n",
      "--- & --- & 1.41 & 80.52 \\\\ \\hline\n",
      "--- & --- & 0 & 75.4 \\\\ \\hline\n",
      "\n"
     ]
    }
   ],
   "source": [
    "print (\"Введите данные:\")\n",
    "no_parse_data = input().split(' ')\n",
    "data = [i_stolb.split() for i_stolb in no_parse_data]\n",
    "# print (data)\n",
    "\n",
    "output = \"\\hline\\n\"\n",
    "for i_str in range (len (data[0])):\n",
    "    for i_stolb in range (len (data)):\n",
    "        output += data[i_stolb][i_str] + \" & \"\n",
    "    output = output[0:-2] + \"\\\\\\\\ \\hline\\n\"\n",
    "\n",
    "print (output)"
   ]
  },
  {
   "cell_type": "markdown",
   "metadata": {},
   "source": [
    "    А вот горизонтальная:"
   ]
  },
  {
   "cell_type": "code",
   "execution_count": 1,
   "metadata": {},
   "outputs": [
    {
     "name": "stdout",
     "output_type": "stream",
     "text": [
      "Введите данные:\n",
      "\\hline\n",
      "10.66 & 1.69 & 3.45 & 5.1 & 6.79 & 8.54 & 10.2 & 11.78 & 13.5\\\\ \\hline\n",
      "10.88 & 1.67 & 3.46 & 5.12 & 6.97 & 8.56 & 10.24 & 11.88 & 13.58\\\\ \\hline\n",
      "10.77 & 1.68 & 3.455 & 5.11 & 6.88 & 8.55 & 10.22 & 11.83 & 13.54\n",
      "\\\\ \\hline\n",
      "\n"
     ]
    }
   ],
   "source": [
    "print (\"Введите данные:\")\n",
    "data = input()\n",
    "data = data.replace (' ',  \"\\\\\\\\ \\hline\\n\")\n",
    "data = data.replace ('\\t', \" & \")\n",
    "print (\"\\hline\", data, \"\\\\\\\\ \\hline\\n\", sep = '\\n')"
   ]
  },
  {
   "cell_type": "markdown",
   "metadata": {},
   "source": [
    "    Теперь основная часть:"
   ]
  },
  {
   "cell_type": "code",
   "execution_count": 2,
   "metadata": {},
   "outputs": [],
   "source": [
    "import matplotlib.pyplot as plt\n",
    "import numpy as np\n",
    "import pandas as pd\n",
    "import scipy.optimize as sp_opt"
   ]
  },
  {
   "cell_type": "code",
   "execution_count": 3,
   "metadata": {},
   "outputs": [],
   "source": [
    "class MNK_info:\n",
    "    def __init__ (self, k = 0, b = 0, sigma_k = 0, sigma_b = 0):\n",
    "        self.k = k\n",
    "        self.b = b\n",
    "        self.sigma_k = sigma_k\n",
    "        self.sigma_b = sigma_b\n",
    "\n",
    "    def Print (self):\n",
    "        print (\"\\t\" + \"k = \" + str (self.k),\n",
    "               \"\\t\" + \"b = \" + str (self.b),\n",
    "               \"\\t\" + \"sigma_k = \" + str (self.sigma_k),\n",
    "               \"\\t\" + \"sigma_b = \" + str (self.sigma_b),\n",
    "               sep = \"\\n\")\n",
    "\n",
    "def MNK (x, y):\n",
    "    mid = lambda mass: sum (mass) / len (mass)\n",
    "\n",
    "    # y = k * x + b\n",
    "    mid_xy = [x[i] * y[i] for i in range (len (x))]\n",
    "    mid_xy = mid (mid_xy)\n",
    "\n",
    "    mid_x_pow2 = [x_i ** 2 for x_i in x]\n",
    "    mid_x_pow2 = mid (mid_x_pow2)\n",
    "    \n",
    "    mid_y_pow2 = [y_i ** 2 for y_i in y]\n",
    "    mid_y_pow2 = mid (mid_y_pow2)\n",
    "\n",
    "    mid_y = mid (y)\n",
    "    mid_x = mid (x)\n",
    "\n",
    "    k = (mid_xy - mid_x * mid_y ) / (mid_x_pow2 - mid_x ** 2)\n",
    "    b = mid_y - k * mid_x\n",
    "    \n",
    "    sigma_k = 1 / np.sqrt (len  (x)) * np.sqrt ((mid_y_pow2 - mid_y ** 2) / (mid_x_pow2 - mid_x ** 2) - k ** 2)\n",
    "    sigma_b = sigma_k * np.sqrt (mid_x_pow2 - mid_x ** 2)\n",
    "    \n",
    "    return MNK_info (k, b, sigma_k, sigma_b)"
   ]
  },
  {
   "cell_type": "code",
   "execution_count": 5,
   "metadata": {},
   "outputs": [
    {
     "name": "stdout",
     "output_type": "stream",
     "text": [
      "\tk = 0.08462885045201521\n",
      "\tb = 0.06874811845914763\n",
      "\tsigma_k = 0.0003565108996981628\n",
      "\tsigma_b = 0.015914736364400873\n"
     ]
    }
   ],
   "source": [
    "V_mid = np.array (list (map (float, input(\"V mid: \").split()))) + 0.04\n",
    "V_test = np.array (list (map (float, input(\"V test: \").split())))\n",
    "\n",
    "MNK (V_test, V_mid).Print()"
   ]
  }
 ],
 "metadata": {
  "kernelspec": {
   "display_name": "Python 3 (ipykernel)",
   "language": "python",
   "name": "python3"
  },
  "language_info": {
   "codemirror_mode": {
    "name": "ipython",
    "version": 3
   },
   "file_extension": ".py",
   "mimetype": "text/x-python",
   "name": "python",
   "nbconvert_exporter": "python",
   "pygments_lexer": "ipython3",
   "version": "3.10.6"
  },
  "metadata": {
   "interpreter": {
    "hash": "916dbcbb3f70747c44a77c7bcd40155683ae19c65e1c03b4aa3499c5328201f1"
   }
  },
  "vscode": {
   "interpreter": {
    "hash": "e7370f93d1d0cde622a1f8e1c04877d8463912d04d973331ad4851f04de6915a"
   }
  }
 },
 "nbformat": 4,
 "nbformat_minor": 4
}
