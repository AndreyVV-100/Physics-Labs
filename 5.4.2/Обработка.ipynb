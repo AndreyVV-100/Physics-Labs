{
 "cells": [
  {
   "cell_type": "markdown",
   "metadata": {},
   "source": [
    "    LaTeX генератор таблиц (наконец-то полноценный, ориентация вертикальная):"
   ]
  },
  {
   "cell_type": "code",
   "execution_count": 5,
   "metadata": {
    "scrolled": false
   },
   "outputs": [
    {
     "name": "stdout",
     "output_type": "stream",
     "text": [
      "Введите данные:\n",
      "\\hline\n",
      "0 & 91 & 6.48 & 108.37 \\\\ \\hline\n",
      "3.37 & 91.25 & 6.26 & 106.48 \\\\ \\hline\n",
      "3.72 & 93.25 & 5.92 & 105.1 \\\\ \\hline\n",
      "4.01 & 94.93 & 5.52 & 103.02 \\\\ \\hline\n",
      "4.47 & 97.53 & 5.34 & 102.05 \\\\ \\hline\n",
      "4.76 & 99.15 & 4.87 & 99.25 \\\\ \\hline\n",
      "5.25 & 102.05 & 4.64 & 98.05 \\\\ \\hline\n",
      "5.47 & 103.33 & 3.8 & 93.55 \\\\ \\hline\n",
      "5.78 & 105.12 & 3.5 & 92.02 \\\\ \\hline\n",
      "6.28 & 107.15 & 3.22 & 90.25 \\\\ \\hline\n",
      "6.48 & 108.37 & 2.76 & 87.67 \\\\ \\hline\n",
      "--- & --- & 2.26 & 84.97 \\\\ \\hline\n",
      "--- & --- & 1.41 & 80.52 \\\\ \\hline\n",
      "--- & --- & 0 & 75.4 \\\\ \\hline\n",
      "\n"
     ]
    }
   ],
   "source": [
    "print (\"Введите данные:\")\n",
    "no_parse_data = input().split(' ')\n",
    "data = [i_stolb.split() for i_stolb in no_parse_data]\n",
    "# print (data)\n",
    "\n",
    "output = \"\\hline\\n\"\n",
    "for i_str in range (len (data[0])):\n",
    "    for i_stolb in range (len (data)):\n",
    "        output += data[i_stolb][i_str] + \" & \"\n",
    "    output = output[0:-2] + \"\\\\\\\\ \\hline\\n\"\n",
    "\n",
    "print (output)"
   ]
  },
  {
   "cell_type": "markdown",
   "metadata": {},
   "source": [
    "    А вот горизонтальная:"
   ]
  },
  {
   "cell_type": "code",
   "execution_count": 5,
   "metadata": {},
   "outputs": [
    {
     "name": "stdout",
     "output_type": "stream",
     "text": [
      "Введите данные:\n",
      "\\hline\n",
      "t,\\\\ \\hline\n",
      "с & 300 & 300\\\\ \\hline\n",
      "N,\\\\ \\hline\n",
      "1/c & 1.3593 & 0.5964\\\\ \\hline\n",
      "I,\\\\ \\hline\n",
      "А & 0 & 4.25\n",
      "\\\\ \\hline\n",
      "\n"
     ]
    }
   ],
   "source": [
    "print (\"Введите данные:\")\n",
    "data = input()\n",
    "data = data.replace (' ',  \"\\\\\\\\ \\hline\\n\")\n",
    "data = data.replace ('\\t', \" & \")\n",
    "print (\"\\hline\", data, \"\\\\\\\\ \\hline\\n\", sep = '\\n')"
   ]
  },
  {
   "cell_type": "markdown",
   "metadata": {},
   "source": [
    "    Теперь основная часть:"
   ]
  },
  {
   "cell_type": "code",
   "execution_count": 22,
   "metadata": {},
   "outputs": [],
   "source": [
    "import matplotlib.pyplot as plt\n",
    "import numpy as np\n",
    "import pandas as pd\n",
    "import scipy.optimize as sp_opt"
   ]
  },
  {
   "cell_type": "code",
   "execution_count": 7,
   "metadata": {},
   "outputs": [],
   "source": [
    "class MNK_info:\n",
    "    def __init__ (self, k = 0, b = 0, sigma_k = 0, sigma_b = 0):\n",
    "        self.k = k\n",
    "        self.b = b\n",
    "        self.sigma_k = sigma_k\n",
    "        self.sigma_b = sigma_b\n",
    "\n",
    "    def Print (self):\n",
    "        print (\"\\t\" + \"k = \" + str (self.k),\n",
    "               \"\\t\" + \"b = \" + str (self.b),\n",
    "               \"\\t\" + \"sigma_k = \" + str (self.sigma_k),\n",
    "               \"\\t\" + \"sigma_b = \" + str (self.sigma_b),\n",
    "               sep = \"\\n\")\n",
    "\n",
    "def MNK (x, y):\n",
    "    mid = lambda mass: sum (mass) / len (mass)\n",
    "\n",
    "    # y = k * x + b\n",
    "    mid_xy = [x[i] * y[i] for i in range (len (x))]\n",
    "    mid_xy = mid (mid_xy)\n",
    "\n",
    "    mid_x_pow2 = [x_i ** 2 for x_i in x]\n",
    "    mid_x_pow2 = mid (mid_x_pow2)\n",
    "    \n",
    "    mid_y_pow2 = [y_i ** 2 for y_i in y]\n",
    "    mid_y_pow2 = mid (mid_y_pow2)\n",
    "\n",
    "    mid_y = mid (y)\n",
    "    mid_x = mid (x)\n",
    "\n",
    "    k = (mid_xy - mid_x * mid_y ) / (mid_x_pow2 - mid_x ** 2)\n",
    "    b = mid_y - k * mid_x\n",
    "    \n",
    "    sigma_k = 1 / np.sqrt (len  (x)) * np.sqrt ((mid_y_pow2 - mid_y ** 2) / (mid_x_pow2 - mid_x ** 2) - k ** 2)\n",
    "    sigma_b = sigma_k * np.sqrt (mid_x_pow2 - mid_x ** 2)\n",
    "    \n",
    "    return MNK_info (k, b, sigma_k, sigma_b)"
   ]
  },
  {
   "cell_type": "markdown",
   "metadata": {},
   "source": [
    "Данные"
   ]
  },
  {
   "cell_type": "code",
   "execution_count": 8,
   "metadata": {},
   "outputs": [],
   "source": [
    "N_back = 0.5964"
   ]
  },
  {
   "cell_type": "code",
   "execution_count": 11,
   "metadata": {},
   "outputs": [],
   "source": [
    "N = np.array (list (map (float, input (\"N: \").split()))) - N_back\n",
    "I = np.array (list (map (float, input (\"I: \").split())))"
   ]
  },
  {
   "cell_type": "markdown",
   "metadata": {},
   "source": [
    "Гаусс:"
   ]
  },
  {
   "cell_type": "code",
   "execution_count": 50,
   "metadata": {},
   "outputs": [
    {
     "name": "stdout",
     "output_type": "stream",
     "text": [
      "3.0 3.6\n",
      "a = -126.02733161173242\n",
      "b = 3.241421398543692\n",
      "c = 137.9812312972573\n",
      "\n",
      "sigma_a = 8.230126744951164\n",
      "sigma_b = 0.004243181957310262\n",
      "sigma_c = 8.462891983702209\n",
      "\n",
      "\n"
     ]
    }
   ],
   "source": [
    "gauss_start = 24 # I = 3.0\n",
    "gauss_end   = 34 # I = 3.6\n",
    "print (I[gauss_start], I[gauss_end])\n",
    "\n",
    "gauss_unknown = lambda x, a, b, c: a * np.exp (np.power (x - b, 2)) + c\n",
    "gauss_coefs, corr_matrix_gauss = sp_opt.curve_fit (gauss_unknown, I[gauss_start:gauss_end], N[gauss_start:gauss_end])\n",
    "\n",
    "sigma_gauss = [np.sqrt (corr_matrix_gauss[i][i]) for i in range (len (corr_matrix_gauss))]\n",
    "print (\"a = \", gauss_coefs[0], \"\\n\",\n",
    "       \"b = \", gauss_coefs[1], \"\\n\",\n",
    "       \"c = \", gauss_coefs[2], \"\\n\\n\",\n",
    "       \"sigma_a = \", sigma_gauss[0], \"\\n\",\n",
    "       \"sigma_b = \", sigma_gauss[1], \"\\n\",\n",
    "       \"sigma_c = \", sigma_gauss[2], \"\\n\\n\", sep = '')\n",
    "\n",
    "gauss = lambda x: gauss_unknown (x, *gauss_coefs)\n",
    "gauss_range = np.linspace (I[gauss_start], I[gauss_end-1], 20)\n",
    "gauss_result = gauss (gauss_range)"
   ]
  },
  {
   "cell_type": "markdown",
   "metadata": {},
   "source": [
    "Почти парабола:"
   ]
  },
  {
   "cell_type": "code",
   "execution_count": 77,
   "metadata": {},
   "outputs": [
    {
     "name": "stdout",
     "output_type": "stream",
     "text": [
      "1.1 2.8\n",
      "a = -5.706190538407505\n",
      "b = 2.0008223273129118\n",
      "c = 7.282877260741354\n",
      "\n",
      "sigma_a = 0.28439108784626577\n",
      "sigma_b = 0.01068114610171045\n",
      "sigma_c = 0.12082286683156412\n",
      "\n",
      "\n"
     ]
    }
   ],
   "source": [
    "par_start = 5  # start\n",
    "par_end   = 22 # I = 3.0\n",
    "print (I[par_start], I[par_end])\n",
    "\n",
    "par_unknown = lambda x, a, b, c: a * np.sqrt (x) * np.power (x - b, 2) + c\n",
    "par_coefs, corr_matrix_par = sp_opt.curve_fit (par_unknown, I[par_start:par_end], N[par_start:par_end])\n",
    "\n",
    "sigma_par = [np.sqrt (corr_matrix_par[i][i]) for i in range (len (corr_matrix_par))]\n",
    "print (\"a = \", par_coefs[0], \"\\n\",\n",
    "       \"b = \", par_coefs[1], \"\\n\",\n",
    "       \"c = \", par_coefs[2], \"\\n\\n\",\n",
    "       \"sigma_a = \", sigma_par[0], \"\\n\",\n",
    "       \"sigma_b = \", sigma_par[1], \"\\n\",\n",
    "       \"sigma_c = \", sigma_par[2], \"\\n\\n\", sep = '')\n",
    "\n",
    "par = lambda x: par_unknown (x, *par_coefs)\n",
    "par_range = np.linspace (I[par_start], I[par_end-1], 40)\n",
    "par_result = par (par_range)"
   ]
  },
  {
   "cell_type": "markdown",
   "metadata": {},
   "source": [
    "Ферми-Кюри:"
   ]
  },
  {
   "cell_type": "code",
   "execution_count": 90,
   "metadata": {},
   "outputs": [
    {
     "name": "stdout",
     "output_type": "stream",
     "text": [
      "\tk = -5.100766973002858e-07\n",
      "\tb = 0.0005803729083256029\n",
      "\tsigma_k = 1.3330138514479182e-08\n",
      "\tsigma_b = 1.5272956328281456e-06\n",
      "E_max =  1137.8149823298695  +-  29.88557317052557\n"
     ]
    }
   ],
   "source": [
    "k = 312.7 # кэВ / А\n",
    "m = 511 # кэВ\n",
    "\n",
    "p = I[par_start:] * k\n",
    "E = np.sqrt (np.power (p, 2) + m ** 2)\n",
    "y = np.sqrt (N[par_start:]) / np.power (p, 1.5)\n",
    "\n",
    "F_K = MNK (E[0:par_end - par_start], y[0:par_end - par_start])\n",
    "F_K.Print()\n",
    "E_max = -F_K.b / F_K.k\n",
    "sigma_E_max = E_max * np.sqrt ((F_K.sigma_b / F_K.b)**2 + (F_K.sigma_k / F_K.k)**2)\n",
    "print (\"E_max = \", E_max, \" +- \", sigma_E_max)"
   ]
  },
  {
   "cell_type": "markdown",
   "metadata": {},
   "source": [
    "Графики"
   ]
  },
  {
   "cell_type": "code",
   "execution_count": 78,
   "metadata": {},
   "outputs": [
    {
     "data": {
      "image/png": "[encoded data removed]",
      "text/plain": [
       "<Figure size 720x720 with 1 Axes>"
      ]
     },
     "metadata": {
      "needs_background": "light"
     },
     "output_type": "display_data"
    }
   ],
   "source": [
    "plt.rc('font', size = 13)\n",
    "\n",
    "fig = plt.figure(figsize = (10, 10))\n",
    "ax  = fig.add_subplot(1,1,1)\n",
    "\n",
    "ax.scatter (I, N, marker = 'x', s=100)\n",
    "\n",
    "ax.plot (gauss_range, gauss_result)\n",
    "ax.plot (  par_range,   par_result)\n",
    "\n",
    "ax.set_xlabel ('$I$, А', fontsize = 20)\n",
    "ax.set_ylabel ('$N, \\\\frac{1}{с}$', fontsize = 20)\n",
    "\n",
    "# plt.legend(fontsize = 20)\n",
    "ax.grid(True)\n",
    "\n",
    "plt.savefig (\"Picturies/N_I.pdf\")"
   ]
  },
  {
   "cell_type": "code",
   "execution_count": 92,
   "metadata": {},
   "outputs": [
    {
     "data": {
      "image/png": "[encoded data removed]",
      "text/plain": [
       "<Figure size 720x720 with 1 Axes>"
      ]
     },
     "metadata": {
      "needs_background": "light"
     },
     "output_type": "display_data"
    }
   ],
   "source": [
    "plt.rc('font', size = 13)\n",
    "\n",
    "fig = plt.figure(figsize = (10, 10))\n",
    "ax  = fig.add_subplot(1,1,1)\n",
    "\n",
    "ax.scatter (E, y, marker = 'x', s=100)\n",
    "\n",
    "linear = lambda x: F_K.k * x + F_K.b\n",
    "lin_range = np.array ([E[0], E_max])\n",
    "ax.plot (lin_range, linear (lin_range)) \n",
    "\n",
    "ax.set_xlabel ('$E$, кэВ', fontsize = 20)\n",
    "ax.set_ylabel ('$\\\\frac{\\\\sqrt{N}}{p^{\\\\frac{3}{2}}}$', fontsize = 20)\n",
    "\n",
    "# plt.legend(fontsize = 20)\n",
    "ax.grid(True)\n",
    "\n",
    "plt.savefig (\"Picturies/F-K.pdf\")"
   ]
  }
 ],
 "metadata": {
  "kernelspec": {
   "display_name": "Python 3 (ipykernel)",
   "language": "python",
   "name": "python3"
  },
  "language_info": {
   "codemirror_mode": {
    "name": "ipython",
    "version": 3
   },
   "file_extension": ".py",
   "mimetype": "text/x-python",
   "name": "python",
   "nbconvert_exporter": "python",
   "pygments_lexer": "ipython3",
   "version": "3.10.6"
  },
  "metadata": {
   "interpreter": {
    "hash": "916dbcbb3f70747c44a77c7bcd40155683ae19c65e1c03b4aa3499c5328201f1"
   }
  },
  "vscode": {
   "interpreter": {
    "hash": "e7370f93d1d0cde622a1f8e1c04877d8463912d04d973331ad4851f04de6915a"
   }
  }
 },
 "nbformat": 4,
 "nbformat_minor": 4
}
