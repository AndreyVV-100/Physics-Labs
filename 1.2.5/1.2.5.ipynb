{
 "cells": [
  {
   "cell_type": "markdown",
   "metadata": {},
   "source": [
    "    Подключение всякой хрени:"
   ]
  },
  {
   "cell_type": "code",
   "execution_count": 27,
   "metadata": {},
   "outputs": [],
   "source": [
    "import matplotlib.pyplot as plt\n",
    "import numpy as np #не уверен, понадобится ли\n",
    "import math"
   ]
  },
  {
   "cell_type": "markdown",
   "metadata": {},
   "source": [
    "    Считывание данных:"
   ]
  },
  {
   "cell_type": "code",
   "execution_count": null,
   "metadata": {},
   "outputs": [],
   "source": [
    "#количество оборотов\n",
    "N = list (map (int, input().split()))\n",
    "N = [[N[j+i*5] for j in range (5)] for i in range (5)]"
   ]
  },
  {
   "cell_type": "code",
   "execution_count": 8,
   "metadata": {},
   "outputs": [
    {
     "name": "stdout",
     "output_type": "stream",
     "text": [
      "364 286 274 289 331 265 189 227 231 270 235 189 332 282 245 296 243 241 245 291 293 294 294 295 292\n"
     ]
    }
   ],
   "source": [
    "#время оборотов (с)\n",
    "t = list (map (int, input().split()))\n",
    "t = [[t[j+i*5] for j in range (5)] for i in range (5)]"
   ]
  },
  {
   "cell_type": "code",
   "execution_count": 17,
   "metadata": {
    "scrolled": true
   },
   "outputs": [
    {
     "name": "stdout",
     "output_type": "stream",
     "text": [
      "336\t269\t215\t174\t138\n"
     ]
    }
   ],
   "source": [
    "#масса грузов (г)\n",
    "m = list (map (int, input().split()))"
   ]
  },
  {
   "cell_type": "markdown",
   "metadata": {},
   "source": [
    "     Проверка ввода:"
   ]
  },
  {
   "cell_type": "code",
   "execution_count": 14,
   "metadata": {
    "scrolled": true
   },
   "outputs": [
    {
     "name": "stdout",
     "output_type": "stream",
     "text": [
      "12\t9\t9\t9\t10\n",
      "7\t5\t6\t6\t7\n",
      "5\t4\t7\t6\t5\n",
      "5\t4\t4\t4\t5\n",
      "4\t4\t4\t4\t4\n"
     ]
    }
   ],
   "source": [
    "for i in range (5):\n",
    "    print (*N[i], sep = '\\t')"
   ]
  },
  {
   "cell_type": "code",
   "execution_count": 15,
   "metadata": {
    "scrolled": false
   },
   "outputs": [
    {
     "name": "stdout",
     "output_type": "stream",
     "text": [
      "364\t286\t274\t289\t331\n",
      "265\t189\t227\t231\t270\n",
      "235\t189\t332\t282\t245\n",
      "296\t243\t241\t245\t291\n",
      "293\t294\t294\t295\t292\n"
     ]
    }
   ],
   "source": [
    "for i in range (5):\n",
    "    print (*t[i], sep = '\\t')"
   ]
  },
  {
   "cell_type": "code",
   "execution_count": 18,
   "metadata": {},
   "outputs": [
    {
     "name": "stdout",
     "output_type": "stream",
     "text": [
      "336 269 215 174 138\n"
     ]
    }
   ],
   "source": [
    "print (*m)"
   ]
  },
  {
   "cell_type": "markdown",
   "metadata": {},
   "source": [
    "    Моментики:"
   ]
  },
  {
   "cell_type": "code",
   "execution_count": 20,
   "metadata": {},
   "outputs": [
    {
     "name": "stdout",
     "output_type": "stream",
     "text": [
      "0.39553920000000004\t0.3166668\t0.253098\t0.20483279999999998\t0.1624536\n"
     ]
    }
   ],
   "source": [
    "l = 0.12\n",
    "g = 9.81\n",
    "M = [m[i] * l * g / 1000 for i in range (5)]\n",
    "\n",
    "#проверОчка\n",
    "print (*M, sep = '\\t')"
   ]
  },
  {
   "cell_type": "markdown",
   "metadata": {},
   "source": [
    "    Пора и средние взять:"
   ]
  },
  {
   "cell_type": "code",
   "execution_count": 13,
   "metadata": {
    "scrolled": true
   },
   "outputs": [
    {
     "name": "stdout",
     "output_type": "stream",
     "text": [
      "9.8\t6.2\t5.4\t4.4\t4.0\n",
      "308.8\t236.4\t256.6\t263.2\t293.6\n"
     ]
    }
   ],
   "source": [
    "N_mid = [sum(N[i]) / 5 for i in range(5)]\n",
    "t_mid = [sum(t[i]) / 5 for i in range(5)]\n",
    "\n",
    "#Вот они, больше нигде не нужные:\n",
    "print (*N_mid, sep = '\\t')\n",
    "print (*t_mid, sep = '\\t')"
   ]
  },
  {
   "cell_type": "markdown",
   "metadata": {},
   "source": [
    "    Скорости и периоды:"
   ]
  },
  {
   "cell_type": "code",
   "execution_count": 44,
   "metadata": {
    "scrolled": true
   },
   "outputs": [
    {
     "name": "stdout",
     "output_type": "stream",
     "text": [
      "0.19940160625116563\t0.1647874319141854\t0.1322260353030778\t0.10503805224768305\t0.08560197966184722\n",
      "31.510204081632654\t38.12903225806452\t47.51851851851852\t59.81818181818182\t73.4\n"
     ]
    }
   ],
   "source": [
    "Omega = [2 * math.pi * sum (N[i]) / sum (t[i]) for i in range (5)]\n",
    "T = [sum (t[i]) / sum (N[i]) for i in range (5)]\n",
    "\n",
    "#проверОчка\n",
    "print (*Omega, sep = '\\t')\n",
    "print (*T, sep = '\\t')"
   ]
  },
  {
   "cell_type": "markdown",
   "metadata": {},
   "source": [
    "    Очевидно, что зависимость линейная. Можно и отсортить:"
   ]
  },
  {
   "cell_type": "code",
   "execution_count": 25,
   "metadata": {
    "scrolled": true
   },
   "outputs": [
    {
     "name": "stdout",
     "output_type": "stream",
     "text": [
      "0.08560197966184722\t0.10503805224768305\t0.1322260353030778\t0.1647874319141854\t0.19940160625116563\n",
      "0.1624536\t0.20483279999999998\t0.253098\t0.3166668\t0.39553920000000004\n"
     ]
    }
   ],
   "source": [
    "Omega.sort()\n",
    "M.sort()\n",
    "\n",
    "#проверОчка\n",
    "print (*Omega, sep = '\\t')\n",
    "print (*M, sep = '\\t')"
   ]
  },
  {
   "cell_type": "markdown",
   "metadata": {},
   "source": [
    "    Погнали погрешности (я решил по-шизоидному их вычислить, а что ещё делать в 3:33?):"
   ]
  },
  {
   "cell_type": "code",
   "execution_count": 35,
   "metadata": {
    "scrolled": true
   },
   "outputs": [
    {
     "name": "stdout",
     "output_type": "stream",
     "text": [
      "1.0469961189483963\t0.34726229017921617\t0.750027061090888\t1.1050354319138918\t0.25495097567963926\n"
     ]
    }
   ],
   "source": [
    "sigma_T = [math.sqrt (sum ((T[i] - t[i][j] / N[i][j]) ** 2 for j in range (5)) / 5) for i in range (5)]\n",
    "\n",
    "print (*sigma_T, sep = '\\t')"
   ]
  },
  {
   "cell_type": "code",
   "execution_count": 36,
   "metadata": {},
   "outputs": [
    {
     "name": "stdout",
     "output_type": "stream",
     "text": [
      "0.5052360921720923\t0.15403451061739154\t0.1347145047602931\t0.06891582010757728\t0.01776669334428594\n"
     ]
    }
   ],
   "source": [
    "sigma_Omega = [Omega[i] * sigma_t[i] / T[i] for i in range (5)]\n",
    "\n",
    "print (*sigma_Omega, sep = '\\t')"
   ]
  },
  {
   "cell_type": "markdown",
   "metadata": {},
   "source": [
    "    Какие-то чиселки из из тетрадки для чего-то:"
   ]
  },
  {
   "cell_type": "code",
   "execution_count": 38,
   "metadata": {},
   "outputs": [
    {
     "name": "stdout",
     "output_type": "stream",
     "text": [
      "3.519 3.407 3.441 3.45 3.482\n",
      "4.277 4.311 4.289\n"
     ]
    }
   ],
   "source": [
    "T0 = list (map (float, input().split()))\n",
    "Tc = list (map (float, input().split()))"
   ]
  },
  {
   "cell_type": "code",
   "execution_count": 39,
   "metadata": {},
   "outputs": [
    {
     "name": "stdout",
     "output_type": "stream",
     "text": [
      "3.4598 4.292333333333334\n"
     ]
    }
   ],
   "source": [
    "T0_mid = sum(T0) / 5\n",
    "Tc_mid = sum(Tc) / 3\n",
    "\n",
    "print (T0_mid, Tc_mid)"
   ]
  },
  {
   "cell_type": "code",
   "execution_count": 41,
   "metadata": {
    "scrolled": true
   },
   "outputs": [
    {
     "name": "stdout",
     "output_type": "stream",
     "text": [
      "0.03803892742967399 0.014079141387961867\n"
     ]
    }
   ],
   "source": [
    "sigma_T0 = math.sqrt (sum ((T0_mid - T0[i]) ** 2 for i in range (5)) / 5)\n",
    "sigma_Tc = math.sqrt (sum ((Tc_mid - Tc[i]) ** 2 for i in range (3)) / 3)\n",
    "\n",
    "print (sigma_T0, sigma_Tc)"
   ]
  },
  {
   "cell_type": "markdown",
   "metadata": {},
   "source": [
    "    Момент сил трения (внимательнее, вдруг отсортированно):"
   ]
  },
  {
   "cell_type": "code",
   "execution_count": 45,
   "metadata": {},
   "outputs": [
    {
     "name": "stdout",
     "output_type": "stream",
     "text": [
      "0.3989161140519061\t0.3296681667699235\t0.26452693722614185\t0.2101355772302454\t0.17125242731917448\n"
     ]
    }
   ],
   "source": [
    "const = 2 * math.pi * 398 * 8 * (10 ** (-4))\n",
    "Mtr = [const * Omega[i] for i in range (5)]\n",
    "\n",
    "print (*Mtr, sep = '\\t')"
   ]
  },
  {
   "cell_type": "markdown",
   "metadata": {},
   "source": [
    "    Время графиков:"
   ]
  },
  {
   "cell_type": "code",
   "execution_count": 30,
   "metadata": {},
   "outputs": [
    {
     "data": {
      "image/png": "[encoded data removed]",
      "text/plain": [
       "<Figure size 432x288 with 1 Axes>"
      ]
     },
     "metadata": {
      "needs_background": "light"
     },
     "output_type": "display_data"
    }
   ],
   "source": [
    "fig = plt.figure()\n",
    "ax = fig.add_subplot(1,1,1)\n",
    "\n",
    "ax.scatter (M, Omega);\n",
    "#Я настолько ленивый, что строю по (0,0) и последней точке:\n",
    "\n",
    "x = [0] + [M[-1]]\n",
    "y = [0] + [Omega[-1]]\n",
    "\n",
    "ax.plot (x,y);"
   ]
  }
 ],
 "metadata": {
  "kernelspec": {
   "display_name": "Python 3",
   "language": "python",
   "name": "python3"
  },
  "language_info": {
   "codemirror_mode": {
    "name": "ipython",
    "version": 3
   },
   "file_extension": ".py",
   "mimetype": "text/x-python",
   "name": "python",
   "nbconvert_exporter": "python",
   "pygments_lexer": "ipython3",
   "version": "3.8.5"
  }
 },
 "nbformat": 4,
 "nbformat_minor": 4
}
