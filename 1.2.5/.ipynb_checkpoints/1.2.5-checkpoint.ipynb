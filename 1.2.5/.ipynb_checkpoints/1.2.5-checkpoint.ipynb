{
 "cells": [
  {
   "cell_type": "markdown",
   "metadata": {},
   "source": [
    "    Подключение всякой хрени:"
   ]
  },
  {
   "cell_type": "code",
   "execution_count": 11,
   "metadata": {},
   "outputs": [],
   "source": [
    "import matplotlib as plt\n",
    "import numpy #не уверен, понадобится ли\n",
    "import math"
   ]
  },
  {
   "cell_type": "markdown",
   "metadata": {},
   "source": [
    "    Считывание данных:"
   ]
  },
  {
   "cell_type": "code",
   "execution_count": null,
   "metadata": {},
   "outputs": [],
   "source": [
    "N = list (map (int, input().split()))\n",
    "N = [[N[j+i*5] for j in range (5)] for i in range (5)]"
   ]
  },
  {
   "cell_type": "code",
   "execution_count": 8,
   "metadata": {},
   "outputs": [
    {
     "name": "stdout",
     "output_type": "stream",
     "text": [
      "364 286 274 289 331 265 189 227 231 270 235 189 332 282 245 296 243 241 245 291 293 294 294 295 292\n"
     ]
    }
   ],
   "source": [
    "t = list (map (int, input().split()))\n",
    "t = [[t[j+i*5] for j in range (5)] for i in range (5)]"
   ]
  },
  {
   "cell_type": "markdown",
   "metadata": {},
   "source": [
    "     Проверка ввода:"
   ]
  },
  {
   "cell_type": "code",
   "execution_count": 14,
   "metadata": {
    "scrolled": true
   },
   "outputs": [
    {
     "name": "stdout",
     "output_type": "stream",
     "text": [
      "12\t9\t9\t9\t10\n",
      "7\t5\t6\t6\t7\n",
      "5\t4\t7\t6\t5\n",
      "5\t4\t4\t4\t5\n",
      "4\t4\t4\t4\t4\n"
     ]
    }
   ],
   "source": [
    "for i in range (5):\n",
    "    print (*N[i], sep = '\\t')"
   ]
  },
  {
   "cell_type": "code",
   "execution_count": 15,
   "metadata": {
    "scrolled": true
   },
   "outputs": [
    {
     "name": "stdout",
     "output_type": "stream",
     "text": [
      "364\t286\t274\t289\t331\n",
      "265\t189\t227\t231\t270\n",
      "235\t189\t332\t282\t245\n",
      "296\t243\t241\t245\t291\n",
      "293\t294\t294\t295\t292\n"
     ]
    }
   ],
   "source": [
    "for i in range (5):\n",
    "    print (*t[i], sep = '\\t')"
   ]
  },
  {
   "cell_type": "markdown",
   "metadata": {},
   "source": [
    "    Пора и средние взять:"
   ]
  },
  {
   "cell_type": "code",
   "execution_count": 13,
   "metadata": {},
   "outputs": [
    {
     "name": "stdout",
     "output_type": "stream",
     "text": [
      "9.8\t6.2\t5.4\t4.4\t4.0\n",
      "308.8\t236.4\t256.6\t263.2\t293.6\n"
     ]
    }
   ],
   "source": [
    "N_mid = [sum(N[i]) / 5 for i in range(5)]\n",
    "t_mid = [sum(t[i]) / 5 for i in range(5)]\n",
    "\n",
    "#проверОчка\n",
    "print (*N_mid, sep = '\\t')\n",
    "print (*t_mid, sep = '\\t')"
   ]
  },
  {
   "cell_type": "markdown",
   "metadata": {},
   "source": [
    "    А теперь и сортировОчка:"
   ]
  },
  {
   "cell_type": "code",
   "execution_count": null,
   "metadata": {},
   "outputs": [],
   "source": []
  }
 ],
 "metadata": {
  "kernelspec": {
   "display_name": "Python 3",
   "language": "python",
   "name": "python3"
  },
  "language_info": {
   "codemirror_mode": {
    "name": "ipython",
    "version": 3
   },
   "file_extension": ".py",
   "mimetype": "text/x-python",
   "name": "python",
   "nbconvert_exporter": "python",
   "pygments_lexer": "ipython3",
   "version": "3.8.2"
  }
 },
 "nbformat": 4,
 "nbformat_minor": 4
}
