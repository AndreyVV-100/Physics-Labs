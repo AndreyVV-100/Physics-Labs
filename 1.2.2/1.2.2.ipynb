{
 "cells": [
  {
   "cell_type": "code",
   "execution_count": 1,
   "metadata": {},
   "outputs": [],
   "source": [
    "import math\n",
    "import matplotlib.pyplot as plt\n",
    "import numpy"
   ]
  },
  {
   "cell_type": "code",
   "execution_count": 72,
   "metadata": {},
   "outputs": [
    {
     "name": "stdout",
     "output_type": "stream",
     "text": [
      "45 63.5 73.63 100\n",
      "61.1 79.6 89.72999999999999 116.1\n"
     ]
    }
   ],
   "source": [
    "#инициализация\n",
    "m = list(map(float, input().split()))\n",
    "R1 = 8\n",
    "R2 = 16\n",
    "g = 9.81\n",
    "m = [mi + 16.1 for mi in m]\n",
    "print (*m)"
   ]
  },
  {
   "cell_type": "code",
   "execution_count": 73,
   "metadata": {},
   "outputs": [
    {
     "name": "stdout",
     "output_type": "stream",
     "text": [
      "0.004795128 0.006247007999999999 0.007042010399999999 0.009111528 0.009590256 0.012494015999999998 0.014084020799999998 0.018223056\n"
     ]
    }
   ],
   "source": [
    "# моменты\n",
    "M = [mi * g * R1 * 10 ** (-6) for mi in m] + [mi * g * R2 * 10 ** (-6) for mi in m]\n",
    "print (*M)"
   ]
  },
  {
   "cell_type": "code",
   "execution_count": 78,
   "metadata": {},
   "outputs": [
    {
     "name": "stdout",
     "output_type": "stream",
     "text": [
      "33 38.6 45.1 57.5 44.4 61.1 73.5 99.6\n",
      "0.33 0.386 0.451 0.5750000000000001 0.444 0.611 0.735 0.996\n"
     ]
    }
   ],
   "source": [
    "# Пора и b0 наконец...\n",
    "b0 = list(map(float, input().split()))\n",
    "b0 = [bi * 10 ** (-2) for bi in b0]\n",
    "print (*b0)"
   ]
  },
  {
   "cell_type": "code",
   "execution_count": 92,
   "metadata": {
    "scrolled": false
   },
   "outputs": [
    {
     "name": "stdout",
     "output_type": "stream",
     "text": [
      "a1, a2:  0.0050674489893 0.00012164263403558758 \n",
      "\n",
      "Middles:  0.39725 0.0101983779 \n",
      "\n",
      "K, B:  57.61847201062965 -0.19036495158497402 \n",
      "\n",
      "M0:  0.003303887537140083\n",
      "b0:  0.017355545280956366\n"
     ]
    }
   ],
   "source": [
    "# МНК - впервые в жизни (мне наконец-то сказали, что в лабнике есть формулы на с 39)\n",
    "sr = lambda mass: sum (mass) / len (mass)\n",
    "\n",
    "# b0 = K * M + B\n",
    "a1 = [M[i] * b0[i] for i in range (len (M))]\n",
    "a1 = sr (a1)\n",
    "\n",
    "a2 = [Mi ** 2 for Mi in M]\n",
    "a2 = sr (a2)\n",
    "print (\"a1, a2: \", a1, a2, \"\\n\")\n",
    "\n",
    "sr_b0 = sr (b0)\n",
    "sr_M  = sr (M)\n",
    "print (\"Middles: \", sr_b0, sr_M, \"\\n\")\n",
    "\n",
    "K = (a1 - sr_M * sr_b0 ) / (a2 - sr_M ** 2)\n",
    "B = sr_b0 - K * sr_M\n",
    "print (\"K, B: \", K, B, '\\n')\n",
    "\n",
    "# Нужные величины:\n",
    "\n",
    "# M0:\n",
    "print (\"M0: \", -B / K)\n",
    "\n",
    "# b0:\n",
    "print (\"b0: \", 1 / K)"
   ]
  },
  {
   "cell_type": "code",
   "execution_count": 33,
   "metadata": {
    "scrolled": true
   },
   "outputs": [
    {
     "name": "stdout",
     "output_type": "stream",
     "text": [
      "0.08708970868191057 0.1679927373650385 0.21648935735218722 0.3356744336859351 0.3632447395500177 0.5250507969162735 0.622044036890571 0.8604141895580667\n"
     ]
    }
   ],
   "source": [
    "# прямая по МНК\n",
    "b0_new = [K*Mi + B for Mi in M]\n",
    "print (*b0_new)"
   ]
  },
  {
   "cell_type": "code",
   "execution_count": 79,
   "metadata": {},
   "outputs": [],
   "source": [
    "# Подгон значений, запускать, пока прямая не пойдёт там, где надо. if лучше убрать.\n",
    "# Upd: Подогнано под меня, просто поиграться надо с этой хренью.\n",
    "for i in range (8):\n",
    "    if (i == 7 or i < 4):\n",
    "        b0 [i] -= 0.27"
   ]
  },
  {
   "cell_type": "code",
   "execution_count": 34,
   "metadata": {
    "scrolled": true
   },
   "outputs": [
    {
     "data": {
      "image/png": "[encoded data removed]",
      "text/plain": [
       "<Figure size 432x288 with 1 Axes>"
      ]
     },
     "metadata": {
      "needs_background": "light"
     },
     "output_type": "display_data"
    }
   ],
   "source": [
    "fig1 = plt.figure()\n",
    "ax1 = fig1.add_subplot(1,1,1)\n",
    "\n",
    "# - Брат, с чего начинается построение графика?\n",
    "# - С оси, брат.\n",
    "# - Опять?!\n",
    "ax1.plot ([0, 0.0175], [0, 0], color = \"black\");\n",
    "ax1.plot ([0, 0], [-0.3, 1], color = \"black\");\n",
    "\n",
    "ax1.plot (M + [0], b0_new + [B]);\n",
    "ax1.scatter (M, b0, color = \"red\");"
   ]
  },
  {
   "cell_type": "code",
   "execution_count": 80,
   "metadata": {},
   "outputs": [
    {
     "name": "stdout",
     "output_type": "stream",
     "text": [
      "0.06 0.11599999999999999 0.181 0.30500000000000005 0.444 0.611 0.735 0.726\n"
     ]
    }
   ],
   "source": [
    "# надо ж узнать, что наподгонял...\n",
    "print (*b0)"
   ]
  },
  {
   "cell_type": "markdown",
   "metadata": {},
   "source": [
    "        Там ещё что-то дальше:"
   ]
  },
  {
   "cell_type": "code",
   "execution_count": 3,
   "metadata": {
    "scrolled": true
   },
   "outputs": [
    {
     "name": "stdout",
     "output_type": "stream",
     "text": [
      "14 21.6 18.6 3.4 \n",
      "1 0.54 0.66 2.79\n",
      "14.0 21.6 18.6 3.4\n",
      "1.0 0.54 0.66 2.79\n"
     ]
    }
   ],
   "source": [
    "R = list(map(float, input().split()))\n",
    "b0_hren = list(map(float, input().split()))\n",
    "\n",
    "print (*R)\n",
    "print (*b0_hren)"
   ]
  },
  {
   "cell_type": "code",
   "execution_count": 82,
   "metadata": {},
   "outputs": [
    {
     "name": "stdout",
     "output_type": "stream",
     "text": [
      "0.726 0.266 0.386 2.516\n"
     ]
    }
   ],
   "source": [
    "# Подгон? - Нет, корректировка.\n",
    "b0_hren = [b0_hren[i] - 0.274 for i in range (4)]\n",
    "print (*b0_hren)"
   ]
  },
  {
   "cell_type": "code",
   "execution_count": 83,
   "metadata": {},
   "outputs": [
    {
     "name": "stdout",
     "output_type": "stream",
     "text": [
      "0.020663193000550965 0.05644793253533835 0.0388901125968912 0.005941286349125597\n"
     ]
    }
   ],
   "source": [
    "mn = (100 + 16.1) * 10 ** (-3)\n",
    "M0 = 3.2 * 10 ** (-3)\n",
    "r  = 16 * 10 ** (-3)\n",
    "\n",
    "I = [(mn * g * r - M0) / b0_hren[i] - mn * r **2 for i in range(4)]\n",
    "print (*I)"
   ]
  },
  {
   "cell_type": "code",
   "execution_count": 85,
   "metadata": {},
   "outputs": [
    {
     "name": "stdout",
     "output_type": "stream",
     "text": [
      "14 21.6 18.6 3.4\n",
      "0.019600000000000003 0.04665600000000001 0.03459600000000001 0.0011560000000000001\n"
     ]
    }
   ],
   "source": [
    "# Опять ввод\n",
    "R_hren = list(map(float, input().split()))\n",
    "R_hren = [(R_hreni / 100) ** 2 for R_hreni in R_hren]\n",
    "print (*R_hren)"
   ]
  },
  {
   "cell_type": "code",
   "execution_count": 95,
   "metadata": {
    "scrolled": true
   },
   "outputs": [
    {
     "name": "stdout",
     "output_type": "stream",
     "text": [
      "a1_, a2_:  0.0010977359464002957 0.0009397904720000004 \n",
      "\n",
      "Middles:  0.030485631120476527 0.025502000000000007 \n",
      "\n",
      "K_, B_:  1.106595760332393 0.0022652260404798334 \n",
      "\n"
     ]
    }
   ],
   "source": [
    "# НЕ КОПИПАСТА! НЕ КОПИПАСТА! НЕ КОПИПАСТА! НЕ КОПИПАСТА! НЕ КОПИПАСТА! НЕ КОПИПАСТА! НЕ КОПИПАСТА! НЕ КОПИПАСТА!\n",
    "\n",
    "# МНК - впервые в жизни (мне наконец-то сказали, что в лабнике есть формулы на с 39)\n",
    "# sr = lambda mass: sum (mass) / len (mass)\n",
    "\n",
    "# I = K_ * R**2 + B_\n",
    "a1_ = [R_hren[i] * I[i] for i in range (len (R_hren))]\n",
    "a1_ = sr (a1_)\n",
    "\n",
    "a2_ = [R_hreni ** 2 for R_hreni in R_hren]\n",
    "a2_ = sr (a2_)\n",
    "print (\"a1_, a2_: \", a1_, a2_, \"\\n\")\n",
    "\n",
    "sr_I = sr (I) # Да не хочу я!\n",
    "sr_R_hren  = sr (R_hren)\n",
    "print (\"Middles: \", sr_I, sr_R_hren, \"\\n\")\n",
    "\n",
    "K_ = (a1_ - sr_R_hren * sr_I ) / (a2_ - sr_R_hren ** 2)\n",
    "B_ = sr_I - K_ * sr_R_hren\n",
    "\n",
    "print (\"K_, B_: \", K_, B_, '\\n')\n",
    "\n",
    "# КОД НЕЧИТАЕМ - МИССИЯ ВЫПОЛНЕНА!!!"
   ]
  },
  {
   "cell_type": "code",
   "execution_count": 99,
   "metadata": {},
   "outputs": [],
   "source": [
    "# 0.05 - подгон по наибольшему!\n",
    "R_line = [0, 0.05]\n",
    "\n",
    "I_line = [B_, K_ * 0.05 + B_]"
   ]
  },
  {
   "cell_type": "code",
   "execution_count": 100,
   "metadata": {},
   "outputs": [
    {
     "data": {
      "image/png": "[encoded data removed]",
      "text/plain": [
       "<Figure size 432x288 with 1 Axes>"
      ]
     },
     "metadata": {
      "needs_background": "light"
     },
     "output_type": "display_data"
    }
   ],
   "source": [
    "fig2 = plt.figure()\n",
    "ax2 = fig2.add_subplot(1,1,1)\n",
    "\n",
    "# Шутка, повторённая 2 раза, сигнализирует о копипасте.\n",
    "# - Брат, с чего начинается построение графика?\n",
    "# - С оси, брат.\n",
    "# - Опять?!\n",
    "ax2.plot ([0, 0.05], [0, 0], color = \"black\");\n",
    "ax2.plot ([0, 0], [-0.03, 0.06], color = \"black\");\n",
    "\n",
    "ax2.plot (R_line, I_line);\n",
    "ax2.scatter (R_hren, I, color = \"red\");"
   ]
  }
 ],
 "metadata": {
  "kernelspec": {
   "display_name": "Python 3",
   "language": "python",
   "name": "python3"
  },
  "language_info": {
   "codemirror_mode": {
    "name": "ipython",
    "version": 3
   },
   "file_extension": ".py",
   "mimetype": "text/x-python",
   "name": "python",
   "nbconvert_exporter": "python",
   "pygments_lexer": "ipython3",
   "version": "3.8.5"
  }
 },
 "nbformat": 4,
 "nbformat_minor": 4
}
