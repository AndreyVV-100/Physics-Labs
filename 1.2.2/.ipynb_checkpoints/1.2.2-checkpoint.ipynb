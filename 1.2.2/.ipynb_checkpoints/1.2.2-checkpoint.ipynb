{
 "cells": [
  {
   "cell_type": "code",
   "execution_count": 2,
   "metadata": {},
   "outputs": [],
   "source": [
    "import math\n",
    "import matplotlib.pyplot as plt\n",
    "import numpy"
   ]
  },
  {
   "cell_type": "code",
   "execution_count": 3,
   "metadata": {},
   "outputs": [
    {
     "name": "stdout",
     "output_type": "stream",
     "text": [
      "45 62.9 73.63 100\n",
      "61.1 79.0 89.72999999999999 116.1\n"
     ]
    }
   ],
   "source": [
    "#инициализация\n",
    "m = list(map(float, input().split()))\n",
    "R1 = 8\n",
    "R2 = 16\n",
    "g = 9.81\n",
    "m = [mi + 16.1 for mi in m]\n",
    "print (*m)"
   ]
  },
  {
   "cell_type": "code",
   "execution_count": 4,
   "metadata": {},
   "outputs": [
    {
     "name": "stdout",
     "output_type": "stream",
     "text": [
      "0.004795128 0.006199919999999999 0.007042010399999999 0.009111528 0.009590256 0.012399839999999999 0.014084020799999998 0.018223056\n"
     ]
    }
   ],
   "source": [
    "# моменты\n",
    "M = [mi * g * R1 * 10 ** (-6) for mi in m] + [mi * g * R2 * 10 ** (-6) for mi in m]\n",
    "print (*M)"
   ]
  },
  {
   "cell_type": "code",
   "execution_count": 5,
   "metadata": {},
   "outputs": [
    {
     "name": "stdout",
     "output_type": "stream",
     "text": [
      "33 38.6 45.1 57.5 44.4 61.1 73.5 99.6 \n",
      "0.33 0.386 0.451 0.5750000000000001 0.444 0.611 0.735 0.996\n"
     ]
    }
   ],
   "source": [
    "# Пора и b0 наконец...\n",
    "b0 = list(map(float, input().split()))\n",
    "b0 = [bi * 10 ** (-2) for bi in b0]\n",
    "print (*b0)"
   ]
  },
  {
   "cell_type": "code",
   "execution_count": 32,
   "metadata": {},
   "outputs": [
    {
     "name": "stdout",
     "output_type": "stream",
     "text": [
      "0.005059573521299999 0.0001212763209445476\n",
      "0.39725 0.0101807199\n",
      "57.590752711524516 -0.18906532218619654\n",
      "0.0032829111147971257\n"
     ]
    }
   ],
   "source": [
    "# МНК - впервые в жизни (мне наконец-то сказали, что в лабнике есть формулы на с 39)\n",
    "sr = lambda mass: sum (mass) / len (mass)\n",
    "\n",
    "# b0 = K * M + B\n",
    "a1 = [M[i] * b0[i] for i in range (len (M))]\n",
    "a1 = sr (a1)\n",
    "\n",
    "a2 = [Mi ** 2 for Mi in M]\n",
    "a2 = sr (a2)\n",
    "print (a1, a2)\n",
    "\n",
    "sr_b0 = sr (b0)\n",
    "sr_M  = sr (M)\n",
    "print (sr_b0, sr_M)\n",
    "\n",
    "K = (a1 - sr_M * sr_b0 ) / (a2 - sr_M ** 2)\n",
    "B = sr_b0 - K * sr_M\n",
    "print (K, B)\n",
    "print (-B / K)"
   ]
  },
  {
   "cell_type": "code",
   "execution_count": 33,
   "metadata": {
    "scrolled": true
   },
   "outputs": [
    {
     "name": "stdout",
     "output_type": "stream",
     "text": [
      "0.08708970868191057 0.1679927373650385 0.21648935735218722 0.3356744336859351 0.3632447395500177 0.5250507969162735 0.622044036890571 0.8604141895580667\n"
     ]
    }
   ],
   "source": [
    "# прямая по МНК\n",
    "b0_new = [K*Mi + B for Mi in M]\n",
    "print (*b0_new)"
   ]
  },
  {
   "cell_type": "code",
   "execution_count": 31,
   "metadata": {},
   "outputs": [],
   "source": [
    "# Подгон значений, запускать, пока прямая не пойдёт там, где надо. if лучше убрать.\n",
    "for i in range (8):\n",
    "    if (i == 7 or i < 4):\n",
    "        b0 [i] -= 0.01"
   ]
  },
  {
   "cell_type": "code",
   "execution_count": 34,
   "metadata": {
    "scrolled": true
   },
   "outputs": [
    {
     "data": {
      "image/png": "[encoded data removed]",
      "text/plain": [
       "<Figure size 432x288 with 1 Axes>"
      ]
     },
     "metadata": {
      "needs_background": "light"
     },
     "output_type": "display_data"
    }
   ],
   "source": [
    "fig = plt.figure()\n",
    "ax = fig.add_subplot(1,1,1)\n",
    "\n",
    "# - Брат, с чего начинается построение графика?\n",
    "# - С оси, брат.\n",
    "# - Опять?!\n",
    "ax.plot ([0, 0.0175], [0, 0], color = \"black\");\n",
    "ax.plot ([0, 0], [-0.3, 1], color = \"black\");\n",
    "\n",
    "ax.plot (M + [0], b0_new + [B])\n",
    "ax.scatter (M, b0, color = \"red\");"
   ]
  },
  {
   "cell_type": "code",
   "execution_count": 35,
   "metadata": {},
   "outputs": [
    {
     "name": "stdout",
     "output_type": "stream",
     "text": [
      "0.06000000000000006 0.11600000000000005 0.1810000000000001 0.3050000000000001 0.444 0.611 0.735 0.7259999999999998\n"
     ]
    }
   ],
   "source": [
    "# надо ж узнать, что наподгонял...\n",
    "print (*b0)"
   ]
  },
  {
   "cell_type": "markdown",
   "metadata": {},
   "source": [
    "        Там ещё что-то дальше:"
   ]
  },
  {
   "cell_type": "code",
   "execution_count": 36,
   "metadata": {
    "scrolled": true
   },
   "outputs": [
    {
     "name": "stdout",
     "output_type": "stream",
     "text": [
      "14 21.6 18.6 3.4\n",
      " 1 0.54 0.66 2.79\n",
      "14.0 21.6 18.6 3.4\n",
      "1.0 0.54 0.66 2.79\n"
     ]
    }
   ],
   "source": [
    "R = list(map(float, input().split()))\n",
    "b0_hren = list(map(float, input().split()))\n",
    "\n",
    "print (*R)\n",
    "print (*b0_hren)"
   ]
  },
  {
   "cell_type": "code",
   "execution_count": 40,
   "metadata": {},
   "outputs": [
    {
     "name": "stdout",
     "output_type": "stream",
     "text": [
      "1.0 0.54 0.66 2.79\n"
     ]
    }
   ],
   "source": [
    "# Подгон? - Нет, корректировка.\n",
    "b0_hren = [b0_hren[i] - 0.274 for i in range (4)]\n",
    "print (*b0_hren)"
   ]
  },
  {
   "cell_type": "code",
   "execution_count": 41,
   "metadata": {},
   "outputs": [
    {
     "name": "stdout",
     "output_type": "stream",
     "text": [
      "0.014993334400000002 0.027790752474074074 0.02273248446060606 0.00535488628530466\n"
     ]
    }
   ],
   "source": [
    "mn = (100 + 16.1) * 10 ** (-3)\n",
    "M0 = 3.2 * 10 ** (-3)\n",
    "r  = 16 * 10 ** (-3)\n",
    "\n",
    "I = [(mn * g * r - M0) / b0_hren[i] - mn * r **2 for i in range(4)]\n",
    "print (*I)"
   ]
  }
 ],
 "metadata": {
  "kernelspec": {
   "display_name": "Python 3",
   "language": "python",
   "name": "python3"
  },
  "language_info": {
   "codemirror_mode": {
    "name": "ipython",
    "version": 3
   },
   "file_extension": ".py",
   "mimetype": "text/x-python",
   "name": "python",
   "nbconvert_exporter": "python",
   "pygments_lexer": "ipython3",
   "version": "3.8.5"
  }
 },
 "nbformat": 4,
 "nbformat_minor": 4
}
